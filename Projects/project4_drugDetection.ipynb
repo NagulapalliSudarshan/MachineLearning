{
  "nbformat": 4,
  "nbformat_minor": 0,
  "metadata": {
    "colab": {
      "provenance": [],
      "authorship_tag": "ABX9TyNumVhNM1WmuEZEGbDxK2qd",
      "include_colab_link": true
    },
    "kernelspec": {
      "name": "python3",
      "display_name": "Python 3"
    },
    "language_info": {
      "name": "python"
    }
  },
  "cells": [
    {
      "cell_type": "markdown",
      "metadata": {
        "id": "view-in-github",
        "colab_type": "text"
      },
      "source": [
        "<a href=\"https://colab.research.google.com/github/NagulapalliSudarshan/MachineLearning/blob/main/Projects/project4_drugDetection.ipynb\" target=\"_parent\"><img src=\"https://colab.research.google.com/assets/colab-badge.svg\" alt=\"Open In Colab\"/></a>"
      ]
    },
    {
      "cell_type": "code",
      "execution_count": 94,
      "metadata": {
        "id": "VShO5q1v6sFj"
      },
      "outputs": [],
      "source": [
        "import numpy as np\n",
        "import pandas as pd\n",
        "from sklearn.model_selection import train_test_split\n",
        "from sklearn.naive_bayes import GaussianNB\n",
        "from sklearn.metrics import accuracy_score,confusion_matrix\n",
        "from sklearn.preprocessing import LabelEncoder"
      ]
    },
    {
      "cell_type": "code",
      "source": [
        "df=pd.read_csv(\"/content/drug200.csv\")\n",
        "print(df.columns)"
      ],
      "metadata": {
        "colab": {
          "base_uri": "https://localhost:8080/"
        },
        "id": "bUTzE0wM8eOZ",
        "outputId": "d913c72a-1488-489e-f6de-e94dc14a27da"
      },
      "execution_count": 95,
      "outputs": [
        {
          "output_type": "stream",
          "name": "stdout",
          "text": [
            "Index(['Age', 'Sex', 'BP', 'Cholesterol', 'Na_to_K', 'Drug'], dtype='object')\n"
          ]
        }
      ]
    },
    {
      "cell_type": "code",
      "source": [
        "# coverting catego. to numerical of required columns using labelEncoder\n",
        "encoded_val=[]\n",
        "cols=['Sex','BP','Cholesterol','Drug']\n",
        "le = LabelEncoder()\n",
        "for col in cols:\n",
        "  df[col]=le.fit_transform(df[col])\n",
        "  # le_name_mapping = dict(zip(le.classes_, le.transform(le.classes_)))\n",
        "  # encoded_val.append({\n",
        "  #     \"Column_name\" : col,\n",
        "  #     \"Encoding\" : le_name_mapping\n",
        "  # })\n",
        "\n",
        "# encoded_df=pd.DataFrame(encoded_val)\n",
        "# print(encoded_df['Encoding'])\n",
        "# print(encoded_df['Encoding'][3])"
      ],
      "metadata": {
        "id": "Rvq2OtKI-S_d"
      },
      "execution_count": 96,
      "outputs": []
    },
    {
      "cell_type": "markdown",
      "source": [
        "0-                                     {'F': 0, 'M': 1}   \n",
        "1-                   {'HIGH': 0, 'LOW': 1, 'NORMAL': 2}   \n",
        "2  -                           {'HIGH': 0, 'NORMAL': 1}  \n",
        "3  -  {'drugA': 0, 'drugB': 1, 'drugC': 2, 'drugX': 3, 'drugY': 4  }  "
      ],
      "metadata": {
        "id": "ei0J1PZgNIH1"
      }
    },
    {
      "cell_type": "code",
      "source": [
        "# splitting into target and data parts\n",
        "x=df.iloc[:,:-1].values\n",
        "y=df.iloc[:,-1].values"
      ],
      "metadata": {
        "id": "wePLJZh89t1D"
      },
      "execution_count": 97,
      "outputs": []
    },
    {
      "cell_type": "code",
      "source": [
        "# splitting the dataset\n",
        "x_train,x_test,y_train,y_test = train_test_split(x,y,test_size = 0.30, random_state = 99)\n",
        "print(x_train.shape)\n",
        "print(x_test.shape)\n",
        "print(y_train.shape)\n",
        "print(y_test.shape)"
      ],
      "metadata": {
        "colab": {
          "base_uri": "https://localhost:8080/"
        },
        "id": "uiVplUnu9l7V",
        "outputId": "36c4d7b2-d346-4066-f0aa-c2ba5763e867"
      },
      "execution_count": 98,
      "outputs": [
        {
          "output_type": "stream",
          "name": "stdout",
          "text": [
            "(140, 5)\n",
            "(60, 5)\n",
            "(140,)\n",
            "(60,)\n"
          ]
        }
      ]
    },
    {
      "cell_type": "code",
      "source": [
        "# fitting data\n",
        "gnb_model = GaussianNB()\n",
        "gnb_model.fit(x_train,y_train)"
      ],
      "metadata": {
        "colab": {
          "base_uri": "https://localhost:8080/",
          "height": 75
        },
        "id": "7Rid3M3zCorU",
        "outputId": "4be5a18b-5853-4c94-b5e9-6a25752ccf75"
      },
      "execution_count": 99,
      "outputs": [
        {
          "output_type": "execute_result",
          "data": {
            "text/plain": [
              "GaussianNB()"
            ],
            "text/html": [
              "<style>#sk-container-id-8 {color: black;background-color: white;}#sk-container-id-8 pre{padding: 0;}#sk-container-id-8 div.sk-toggleable {background-color: white;}#sk-container-id-8 label.sk-toggleable__label {cursor: pointer;display: block;width: 100%;margin-bottom: 0;padding: 0.3em;box-sizing: border-box;text-align: center;}#sk-container-id-8 label.sk-toggleable__label-arrow:before {content: \"▸\";float: left;margin-right: 0.25em;color: #696969;}#sk-container-id-8 label.sk-toggleable__label-arrow:hover:before {color: black;}#sk-container-id-8 div.sk-estimator:hover label.sk-toggleable__label-arrow:before {color: black;}#sk-container-id-8 div.sk-toggleable__content {max-height: 0;max-width: 0;overflow: hidden;text-align: left;background-color: #f0f8ff;}#sk-container-id-8 div.sk-toggleable__content pre {margin: 0.2em;color: black;border-radius: 0.25em;background-color: #f0f8ff;}#sk-container-id-8 input.sk-toggleable__control:checked~div.sk-toggleable__content {max-height: 200px;max-width: 100%;overflow: auto;}#sk-container-id-8 input.sk-toggleable__control:checked~label.sk-toggleable__label-arrow:before {content: \"▾\";}#sk-container-id-8 div.sk-estimator input.sk-toggleable__control:checked~label.sk-toggleable__label {background-color: #d4ebff;}#sk-container-id-8 div.sk-label input.sk-toggleable__control:checked~label.sk-toggleable__label {background-color: #d4ebff;}#sk-container-id-8 input.sk-hidden--visually {border: 0;clip: rect(1px 1px 1px 1px);clip: rect(1px, 1px, 1px, 1px);height: 1px;margin: -1px;overflow: hidden;padding: 0;position: absolute;width: 1px;}#sk-container-id-8 div.sk-estimator {font-family: monospace;background-color: #f0f8ff;border: 1px dotted black;border-radius: 0.25em;box-sizing: border-box;margin-bottom: 0.5em;}#sk-container-id-8 div.sk-estimator:hover {background-color: #d4ebff;}#sk-container-id-8 div.sk-parallel-item::after {content: \"\";width: 100%;border-bottom: 1px solid gray;flex-grow: 1;}#sk-container-id-8 div.sk-label:hover label.sk-toggleable__label {background-color: #d4ebff;}#sk-container-id-8 div.sk-serial::before {content: \"\";position: absolute;border-left: 1px solid gray;box-sizing: border-box;top: 0;bottom: 0;left: 50%;z-index: 0;}#sk-container-id-8 div.sk-serial {display: flex;flex-direction: column;align-items: center;background-color: white;padding-right: 0.2em;padding-left: 0.2em;position: relative;}#sk-container-id-8 div.sk-item {position: relative;z-index: 1;}#sk-container-id-8 div.sk-parallel {display: flex;align-items: stretch;justify-content: center;background-color: white;position: relative;}#sk-container-id-8 div.sk-item::before, #sk-container-id-8 div.sk-parallel-item::before {content: \"\";position: absolute;border-left: 1px solid gray;box-sizing: border-box;top: 0;bottom: 0;left: 50%;z-index: -1;}#sk-container-id-8 div.sk-parallel-item {display: flex;flex-direction: column;z-index: 1;position: relative;background-color: white;}#sk-container-id-8 div.sk-parallel-item:first-child::after {align-self: flex-end;width: 50%;}#sk-container-id-8 div.sk-parallel-item:last-child::after {align-self: flex-start;width: 50%;}#sk-container-id-8 div.sk-parallel-item:only-child::after {width: 0;}#sk-container-id-8 div.sk-dashed-wrapped {border: 1px dashed gray;margin: 0 0.4em 0.5em 0.4em;box-sizing: border-box;padding-bottom: 0.4em;background-color: white;}#sk-container-id-8 div.sk-label label {font-family: monospace;font-weight: bold;display: inline-block;line-height: 1.2em;}#sk-container-id-8 div.sk-label-container {text-align: center;}#sk-container-id-8 div.sk-container {/* jupyter's `normalize.less` sets `[hidden] { display: none; }` but bootstrap.min.css set `[hidden] { display: none !important; }` so we also need the `!important` here to be able to override the default hidden behavior on the sphinx rendered scikit-learn.org. See: https://github.com/scikit-learn/scikit-learn/issues/21755 */display: inline-block !important;position: relative;}#sk-container-id-8 div.sk-text-repr-fallback {display: none;}</style><div id=\"sk-container-id-8\" class=\"sk-top-container\"><div class=\"sk-text-repr-fallback\"><pre>GaussianNB()</pre><b>In a Jupyter environment, please rerun this cell to show the HTML representation or trust the notebook. <br />On GitHub, the HTML representation is unable to render, please try loading this page with nbviewer.org.</b></div><div class=\"sk-container\" hidden><div class=\"sk-item\"><div class=\"sk-estimator sk-toggleable\"><input class=\"sk-toggleable__control sk-hidden--visually\" id=\"sk-estimator-id-8\" type=\"checkbox\" checked><label for=\"sk-estimator-id-8\" class=\"sk-toggleable__label sk-toggleable__label-arrow\">GaussianNB</label><div class=\"sk-toggleable__content\"><pre>GaussianNB()</pre></div></div></div></div></div>"
            ]
          },
          "metadata": {},
          "execution_count": 99
        }
      ]
    },
    {
      "cell_type": "code",
      "source": [
        "# predictions\n",
        "y_predictions = gnb_model.predict(x_test)\n"
      ],
      "metadata": {
        "id": "G_pRrUDwC__l"
      },
      "execution_count": 100,
      "outputs": []
    },
    {
      "cell_type": "code",
      "source": [
        "for i in range(y_predictions.size):\n",
        "  print(y_predictions,y_test)"
      ],
      "metadata": {
        "colab": {
          "base_uri": "https://localhost:8080/"
        },
        "id": "WoGkENB2DMcV",
        "outputId": "9ab4566b-b24c-484a-b5e8-750a41f032bf"
      },
      "execution_count": 101,
      "outputs": [
        {
          "output_type": "stream",
          "name": "stdout",
          "text": [
            "[3 3 0 0 4 3 3 0 1 0 1 2 2 0 4 2 4 3 4 4 3 0 3 0 3 4 4 4 4 4 0 4 3 3 3 3 3\n",
            " 4 0 3 3 3 4 4 4 0 2 1 4 4 2 4 4 0 1 0 3 2 4 3] [3 3 0 0 4 3 3 0 4 0 1 4 2 4 4 2 4 3 4 3 3 0 3 4 3 4 4 4 4 4 0 4 3 3 3 3 3\n",
            " 4 0 3 3 3 4 4 4 0 4 1 4 4 2 4 4 0 1 0 3 2 4 3]\n",
            "[3 3 0 0 4 3 3 0 1 0 1 2 2 0 4 2 4 3 4 4 3 0 3 0 3 4 4 4 4 4 0 4 3 3 3 3 3\n",
            " 4 0 3 3 3 4 4 4 0 2 1 4 4 2 4 4 0 1 0 3 2 4 3] [3 3 0 0 4 3 3 0 4 0 1 4 2 4 4 2 4 3 4 3 3 0 3 4 3 4 4 4 4 4 0 4 3 3 3 3 3\n",
            " 4 0 3 3 3 4 4 4 0 4 1 4 4 2 4 4 0 1 0 3 2 4 3]\n",
            "[3 3 0 0 4 3 3 0 1 0 1 2 2 0 4 2 4 3 4 4 3 0 3 0 3 4 4 4 4 4 0 4 3 3 3 3 3\n",
            " 4 0 3 3 3 4 4 4 0 2 1 4 4 2 4 4 0 1 0 3 2 4 3] [3 3 0 0 4 3 3 0 4 0 1 4 2 4 4 2 4 3 4 3 3 0 3 4 3 4 4 4 4 4 0 4 3 3 3 3 3\n",
            " 4 0 3 3 3 4 4 4 0 4 1 4 4 2 4 4 0 1 0 3 2 4 3]\n",
            "[3 3 0 0 4 3 3 0 1 0 1 2 2 0 4 2 4 3 4 4 3 0 3 0 3 4 4 4 4 4 0 4 3 3 3 3 3\n",
            " 4 0 3 3 3 4 4 4 0 2 1 4 4 2 4 4 0 1 0 3 2 4 3] [3 3 0 0 4 3 3 0 4 0 1 4 2 4 4 2 4 3 4 3 3 0 3 4 3 4 4 4 4 4 0 4 3 3 3 3 3\n",
            " 4 0 3 3 3 4 4 4 0 4 1 4 4 2 4 4 0 1 0 3 2 4 3]\n",
            "[3 3 0 0 4 3 3 0 1 0 1 2 2 0 4 2 4 3 4 4 3 0 3 0 3 4 4 4 4 4 0 4 3 3 3 3 3\n",
            " 4 0 3 3 3 4 4 4 0 2 1 4 4 2 4 4 0 1 0 3 2 4 3] [3 3 0 0 4 3 3 0 4 0 1 4 2 4 4 2 4 3 4 3 3 0 3 4 3 4 4 4 4 4 0 4 3 3 3 3 3\n",
            " 4 0 3 3 3 4 4 4 0 4 1 4 4 2 4 4 0 1 0 3 2 4 3]\n",
            "[3 3 0 0 4 3 3 0 1 0 1 2 2 0 4 2 4 3 4 4 3 0 3 0 3 4 4 4 4 4 0 4 3 3 3 3 3\n",
            " 4 0 3 3 3 4 4 4 0 2 1 4 4 2 4 4 0 1 0 3 2 4 3] [3 3 0 0 4 3 3 0 4 0 1 4 2 4 4 2 4 3 4 3 3 0 3 4 3 4 4 4 4 4 0 4 3 3 3 3 3\n",
            " 4 0 3 3 3 4 4 4 0 4 1 4 4 2 4 4 0 1 0 3 2 4 3]\n",
            "[3 3 0 0 4 3 3 0 1 0 1 2 2 0 4 2 4 3 4 4 3 0 3 0 3 4 4 4 4 4 0 4 3 3 3 3 3\n",
            " 4 0 3 3 3 4 4 4 0 2 1 4 4 2 4 4 0 1 0 3 2 4 3] [3 3 0 0 4 3 3 0 4 0 1 4 2 4 4 2 4 3 4 3 3 0 3 4 3 4 4 4 4 4 0 4 3 3 3 3 3\n",
            " 4 0 3 3 3 4 4 4 0 4 1 4 4 2 4 4 0 1 0 3 2 4 3]\n",
            "[3 3 0 0 4 3 3 0 1 0 1 2 2 0 4 2 4 3 4 4 3 0 3 0 3 4 4 4 4 4 0 4 3 3 3 3 3\n",
            " 4 0 3 3 3 4 4 4 0 2 1 4 4 2 4 4 0 1 0 3 2 4 3] [3 3 0 0 4 3 3 0 4 0 1 4 2 4 4 2 4 3 4 3 3 0 3 4 3 4 4 4 4 4 0 4 3 3 3 3 3\n",
            " 4 0 3 3 3 4 4 4 0 4 1 4 4 2 4 4 0 1 0 3 2 4 3]\n",
            "[3 3 0 0 4 3 3 0 1 0 1 2 2 0 4 2 4 3 4 4 3 0 3 0 3 4 4 4 4 4 0 4 3 3 3 3 3\n",
            " 4 0 3 3 3 4 4 4 0 2 1 4 4 2 4 4 0 1 0 3 2 4 3] [3 3 0 0 4 3 3 0 4 0 1 4 2 4 4 2 4 3 4 3 3 0 3 4 3 4 4 4 4 4 0 4 3 3 3 3 3\n",
            " 4 0 3 3 3 4 4 4 0 4 1 4 4 2 4 4 0 1 0 3 2 4 3]\n",
            "[3 3 0 0 4 3 3 0 1 0 1 2 2 0 4 2 4 3 4 4 3 0 3 0 3 4 4 4 4 4 0 4 3 3 3 3 3\n",
            " 4 0 3 3 3 4 4 4 0 2 1 4 4 2 4 4 0 1 0 3 2 4 3] [3 3 0 0 4 3 3 0 4 0 1 4 2 4 4 2 4 3 4 3 3 0 3 4 3 4 4 4 4 4 0 4 3 3 3 3 3\n",
            " 4 0 3 3 3 4 4 4 0 4 1 4 4 2 4 4 0 1 0 3 2 4 3]\n",
            "[3 3 0 0 4 3 3 0 1 0 1 2 2 0 4 2 4 3 4 4 3 0 3 0 3 4 4 4 4 4 0 4 3 3 3 3 3\n",
            " 4 0 3 3 3 4 4 4 0 2 1 4 4 2 4 4 0 1 0 3 2 4 3] [3 3 0 0 4 3 3 0 4 0 1 4 2 4 4 2 4 3 4 3 3 0 3 4 3 4 4 4 4 4 0 4 3 3 3 3 3\n",
            " 4 0 3 3 3 4 4 4 0 4 1 4 4 2 4 4 0 1 0 3 2 4 3]\n",
            "[3 3 0 0 4 3 3 0 1 0 1 2 2 0 4 2 4 3 4 4 3 0 3 0 3 4 4 4 4 4 0 4 3 3 3 3 3\n",
            " 4 0 3 3 3 4 4 4 0 2 1 4 4 2 4 4 0 1 0 3 2 4 3] [3 3 0 0 4 3 3 0 4 0 1 4 2 4 4 2 4 3 4 3 3 0 3 4 3 4 4 4 4 4 0 4 3 3 3 3 3\n",
            " 4 0 3 3 3 4 4 4 0 4 1 4 4 2 4 4 0 1 0 3 2 4 3]\n",
            "[3 3 0 0 4 3 3 0 1 0 1 2 2 0 4 2 4 3 4 4 3 0 3 0 3 4 4 4 4 4 0 4 3 3 3 3 3\n",
            " 4 0 3 3 3 4 4 4 0 2 1 4 4 2 4 4 0 1 0 3 2 4 3] [3 3 0 0 4 3 3 0 4 0 1 4 2 4 4 2 4 3 4 3 3 0 3 4 3 4 4 4 4 4 0 4 3 3 3 3 3\n",
            " 4 0 3 3 3 4 4 4 0 4 1 4 4 2 4 4 0 1 0 3 2 4 3]\n",
            "[3 3 0 0 4 3 3 0 1 0 1 2 2 0 4 2 4 3 4 4 3 0 3 0 3 4 4 4 4 4 0 4 3 3 3 3 3\n",
            " 4 0 3 3 3 4 4 4 0 2 1 4 4 2 4 4 0 1 0 3 2 4 3] [3 3 0 0 4 3 3 0 4 0 1 4 2 4 4 2 4 3 4 3 3 0 3 4 3 4 4 4 4 4 0 4 3 3 3 3 3\n",
            " 4 0 3 3 3 4 4 4 0 4 1 4 4 2 4 4 0 1 0 3 2 4 3]\n",
            "[3 3 0 0 4 3 3 0 1 0 1 2 2 0 4 2 4 3 4 4 3 0 3 0 3 4 4 4 4 4 0 4 3 3 3 3 3\n",
            " 4 0 3 3 3 4 4 4 0 2 1 4 4 2 4 4 0 1 0 3 2 4 3] [3 3 0 0 4 3 3 0 4 0 1 4 2 4 4 2 4 3 4 3 3 0 3 4 3 4 4 4 4 4 0 4 3 3 3 3 3\n",
            " 4 0 3 3 3 4 4 4 0 4 1 4 4 2 4 4 0 1 0 3 2 4 3]\n",
            "[3 3 0 0 4 3 3 0 1 0 1 2 2 0 4 2 4 3 4 4 3 0 3 0 3 4 4 4 4 4 0 4 3 3 3 3 3\n",
            " 4 0 3 3 3 4 4 4 0 2 1 4 4 2 4 4 0 1 0 3 2 4 3] [3 3 0 0 4 3 3 0 4 0 1 4 2 4 4 2 4 3 4 3 3 0 3 4 3 4 4 4 4 4 0 4 3 3 3 3 3\n",
            " 4 0 3 3 3 4 4 4 0 4 1 4 4 2 4 4 0 1 0 3 2 4 3]\n",
            "[3 3 0 0 4 3 3 0 1 0 1 2 2 0 4 2 4 3 4 4 3 0 3 0 3 4 4 4 4 4 0 4 3 3 3 3 3\n",
            " 4 0 3 3 3 4 4 4 0 2 1 4 4 2 4 4 0 1 0 3 2 4 3] [3 3 0 0 4 3 3 0 4 0 1 4 2 4 4 2 4 3 4 3 3 0 3 4 3 4 4 4 4 4 0 4 3 3 3 3 3\n",
            " 4 0 3 3 3 4 4 4 0 4 1 4 4 2 4 4 0 1 0 3 2 4 3]\n",
            "[3 3 0 0 4 3 3 0 1 0 1 2 2 0 4 2 4 3 4 4 3 0 3 0 3 4 4 4 4 4 0 4 3 3 3 3 3\n",
            " 4 0 3 3 3 4 4 4 0 2 1 4 4 2 4 4 0 1 0 3 2 4 3] [3 3 0 0 4 3 3 0 4 0 1 4 2 4 4 2 4 3 4 3 3 0 3 4 3 4 4 4 4 4 0 4 3 3 3 3 3\n",
            " 4 0 3 3 3 4 4 4 0 4 1 4 4 2 4 4 0 1 0 3 2 4 3]\n",
            "[3 3 0 0 4 3 3 0 1 0 1 2 2 0 4 2 4 3 4 4 3 0 3 0 3 4 4 4 4 4 0 4 3 3 3 3 3\n",
            " 4 0 3 3 3 4 4 4 0 2 1 4 4 2 4 4 0 1 0 3 2 4 3] [3 3 0 0 4 3 3 0 4 0 1 4 2 4 4 2 4 3 4 3 3 0 3 4 3 4 4 4 4 4 0 4 3 3 3 3 3\n",
            " 4 0 3 3 3 4 4 4 0 4 1 4 4 2 4 4 0 1 0 3 2 4 3]\n",
            "[3 3 0 0 4 3 3 0 1 0 1 2 2 0 4 2 4 3 4 4 3 0 3 0 3 4 4 4 4 4 0 4 3 3 3 3 3\n",
            " 4 0 3 3 3 4 4 4 0 2 1 4 4 2 4 4 0 1 0 3 2 4 3] [3 3 0 0 4 3 3 0 4 0 1 4 2 4 4 2 4 3 4 3 3 0 3 4 3 4 4 4 4 4 0 4 3 3 3 3 3\n",
            " 4 0 3 3 3 4 4 4 0 4 1 4 4 2 4 4 0 1 0 3 2 4 3]\n",
            "[3 3 0 0 4 3 3 0 1 0 1 2 2 0 4 2 4 3 4 4 3 0 3 0 3 4 4 4 4 4 0 4 3 3 3 3 3\n",
            " 4 0 3 3 3 4 4 4 0 2 1 4 4 2 4 4 0 1 0 3 2 4 3] [3 3 0 0 4 3 3 0 4 0 1 4 2 4 4 2 4 3 4 3 3 0 3 4 3 4 4 4 4 4 0 4 3 3 3 3 3\n",
            " 4 0 3 3 3 4 4 4 0 4 1 4 4 2 4 4 0 1 0 3 2 4 3]\n",
            "[3 3 0 0 4 3 3 0 1 0 1 2 2 0 4 2 4 3 4 4 3 0 3 0 3 4 4 4 4 4 0 4 3 3 3 3 3\n",
            " 4 0 3 3 3 4 4 4 0 2 1 4 4 2 4 4 0 1 0 3 2 4 3] [3 3 0 0 4 3 3 0 4 0 1 4 2 4 4 2 4 3 4 3 3 0 3 4 3 4 4 4 4 4 0 4 3 3 3 3 3\n",
            " 4 0 3 3 3 4 4 4 0 4 1 4 4 2 4 4 0 1 0 3 2 4 3]\n",
            "[3 3 0 0 4 3 3 0 1 0 1 2 2 0 4 2 4 3 4 4 3 0 3 0 3 4 4 4 4 4 0 4 3 3 3 3 3\n",
            " 4 0 3 3 3 4 4 4 0 2 1 4 4 2 4 4 0 1 0 3 2 4 3] [3 3 0 0 4 3 3 0 4 0 1 4 2 4 4 2 4 3 4 3 3 0 3 4 3 4 4 4 4 4 0 4 3 3 3 3 3\n",
            " 4 0 3 3 3 4 4 4 0 4 1 4 4 2 4 4 0 1 0 3 2 4 3]\n",
            "[3 3 0 0 4 3 3 0 1 0 1 2 2 0 4 2 4 3 4 4 3 0 3 0 3 4 4 4 4 4 0 4 3 3 3 3 3\n",
            " 4 0 3 3 3 4 4 4 0 2 1 4 4 2 4 4 0 1 0 3 2 4 3] [3 3 0 0 4 3 3 0 4 0 1 4 2 4 4 2 4 3 4 3 3 0 3 4 3 4 4 4 4 4 0 4 3 3 3 3 3\n",
            " 4 0 3 3 3 4 4 4 0 4 1 4 4 2 4 4 0 1 0 3 2 4 3]\n",
            "[3 3 0 0 4 3 3 0 1 0 1 2 2 0 4 2 4 3 4 4 3 0 3 0 3 4 4 4 4 4 0 4 3 3 3 3 3\n",
            " 4 0 3 3 3 4 4 4 0 2 1 4 4 2 4 4 0 1 0 3 2 4 3] [3 3 0 0 4 3 3 0 4 0 1 4 2 4 4 2 4 3 4 3 3 0 3 4 3 4 4 4 4 4 0 4 3 3 3 3 3\n",
            " 4 0 3 3 3 4 4 4 0 4 1 4 4 2 4 4 0 1 0 3 2 4 3]\n",
            "[3 3 0 0 4 3 3 0 1 0 1 2 2 0 4 2 4 3 4 4 3 0 3 0 3 4 4 4 4 4 0 4 3 3 3 3 3\n",
            " 4 0 3 3 3 4 4 4 0 2 1 4 4 2 4 4 0 1 0 3 2 4 3] [3 3 0 0 4 3 3 0 4 0 1 4 2 4 4 2 4 3 4 3 3 0 3 4 3 4 4 4 4 4 0 4 3 3 3 3 3\n",
            " 4 0 3 3 3 4 4 4 0 4 1 4 4 2 4 4 0 1 0 3 2 4 3]\n",
            "[3 3 0 0 4 3 3 0 1 0 1 2 2 0 4 2 4 3 4 4 3 0 3 0 3 4 4 4 4 4 0 4 3 3 3 3 3\n",
            " 4 0 3 3 3 4 4 4 0 2 1 4 4 2 4 4 0 1 0 3 2 4 3] [3 3 0 0 4 3 3 0 4 0 1 4 2 4 4 2 4 3 4 3 3 0 3 4 3 4 4 4 4 4 0 4 3 3 3 3 3\n",
            " 4 0 3 3 3 4 4 4 0 4 1 4 4 2 4 4 0 1 0 3 2 4 3]\n",
            "[3 3 0 0 4 3 3 0 1 0 1 2 2 0 4 2 4 3 4 4 3 0 3 0 3 4 4 4 4 4 0 4 3 3 3 3 3\n",
            " 4 0 3 3 3 4 4 4 0 2 1 4 4 2 4 4 0 1 0 3 2 4 3] [3 3 0 0 4 3 3 0 4 0 1 4 2 4 4 2 4 3 4 3 3 0 3 4 3 4 4 4 4 4 0 4 3 3 3 3 3\n",
            " 4 0 3 3 3 4 4 4 0 4 1 4 4 2 4 4 0 1 0 3 2 4 3]\n",
            "[3 3 0 0 4 3 3 0 1 0 1 2 2 0 4 2 4 3 4 4 3 0 3 0 3 4 4 4 4 4 0 4 3 3 3 3 3\n",
            " 4 0 3 3 3 4 4 4 0 2 1 4 4 2 4 4 0 1 0 3 2 4 3] [3 3 0 0 4 3 3 0 4 0 1 4 2 4 4 2 4 3 4 3 3 0 3 4 3 4 4 4 4 4 0 4 3 3 3 3 3\n",
            " 4 0 3 3 3 4 4 4 0 4 1 4 4 2 4 4 0 1 0 3 2 4 3]\n",
            "[3 3 0 0 4 3 3 0 1 0 1 2 2 0 4 2 4 3 4 4 3 0 3 0 3 4 4 4 4 4 0 4 3 3 3 3 3\n",
            " 4 0 3 3 3 4 4 4 0 2 1 4 4 2 4 4 0 1 0 3 2 4 3] [3 3 0 0 4 3 3 0 4 0 1 4 2 4 4 2 4 3 4 3 3 0 3 4 3 4 4 4 4 4 0 4 3 3 3 3 3\n",
            " 4 0 3 3 3 4 4 4 0 4 1 4 4 2 4 4 0 1 0 3 2 4 3]\n",
            "[3 3 0 0 4 3 3 0 1 0 1 2 2 0 4 2 4 3 4 4 3 0 3 0 3 4 4 4 4 4 0 4 3 3 3 3 3\n",
            " 4 0 3 3 3 4 4 4 0 2 1 4 4 2 4 4 0 1 0 3 2 4 3] [3 3 0 0 4 3 3 0 4 0 1 4 2 4 4 2 4 3 4 3 3 0 3 4 3 4 4 4 4 4 0 4 3 3 3 3 3\n",
            " 4 0 3 3 3 4 4 4 0 4 1 4 4 2 4 4 0 1 0 3 2 4 3]\n",
            "[3 3 0 0 4 3 3 0 1 0 1 2 2 0 4 2 4 3 4 4 3 0 3 0 3 4 4 4 4 4 0 4 3 3 3 3 3\n",
            " 4 0 3 3 3 4 4 4 0 2 1 4 4 2 4 4 0 1 0 3 2 4 3] [3 3 0 0 4 3 3 0 4 0 1 4 2 4 4 2 4 3 4 3 3 0 3 4 3 4 4 4 4 4 0 4 3 3 3 3 3\n",
            " 4 0 3 3 3 4 4 4 0 4 1 4 4 2 4 4 0 1 0 3 2 4 3]\n",
            "[3 3 0 0 4 3 3 0 1 0 1 2 2 0 4 2 4 3 4 4 3 0 3 0 3 4 4 4 4 4 0 4 3 3 3 3 3\n",
            " 4 0 3 3 3 4 4 4 0 2 1 4 4 2 4 4 0 1 0 3 2 4 3] [3 3 0 0 4 3 3 0 4 0 1 4 2 4 4 2 4 3 4 3 3 0 3 4 3 4 4 4 4 4 0 4 3 3 3 3 3\n",
            " 4 0 3 3 3 4 4 4 0 4 1 4 4 2 4 4 0 1 0 3 2 4 3]\n",
            "[3 3 0 0 4 3 3 0 1 0 1 2 2 0 4 2 4 3 4 4 3 0 3 0 3 4 4 4 4 4 0 4 3 3 3 3 3\n",
            " 4 0 3 3 3 4 4 4 0 2 1 4 4 2 4 4 0 1 0 3 2 4 3] [3 3 0 0 4 3 3 0 4 0 1 4 2 4 4 2 4 3 4 3 3 0 3 4 3 4 4 4 4 4 0 4 3 3 3 3 3\n",
            " 4 0 3 3 3 4 4 4 0 4 1 4 4 2 4 4 0 1 0 3 2 4 3]\n",
            "[3 3 0 0 4 3 3 0 1 0 1 2 2 0 4 2 4 3 4 4 3 0 3 0 3 4 4 4 4 4 0 4 3 3 3 3 3\n",
            " 4 0 3 3 3 4 4 4 0 2 1 4 4 2 4 4 0 1 0 3 2 4 3] [3 3 0 0 4 3 3 0 4 0 1 4 2 4 4 2 4 3 4 3 3 0 3 4 3 4 4 4 4 4 0 4 3 3 3 3 3\n",
            " 4 0 3 3 3 4 4 4 0 4 1 4 4 2 4 4 0 1 0 3 2 4 3]\n",
            "[3 3 0 0 4 3 3 0 1 0 1 2 2 0 4 2 4 3 4 4 3 0 3 0 3 4 4 4 4 4 0 4 3 3 3 3 3\n",
            " 4 0 3 3 3 4 4 4 0 2 1 4 4 2 4 4 0 1 0 3 2 4 3] [3 3 0 0 4 3 3 0 4 0 1 4 2 4 4 2 4 3 4 3 3 0 3 4 3 4 4 4 4 4 0 4 3 3 3 3 3\n",
            " 4 0 3 3 3 4 4 4 0 4 1 4 4 2 4 4 0 1 0 3 2 4 3]\n",
            "[3 3 0 0 4 3 3 0 1 0 1 2 2 0 4 2 4 3 4 4 3 0 3 0 3 4 4 4 4 4 0 4 3 3 3 3 3\n",
            " 4 0 3 3 3 4 4 4 0 2 1 4 4 2 4 4 0 1 0 3 2 4 3] [3 3 0 0 4 3 3 0 4 0 1 4 2 4 4 2 4 3 4 3 3 0 3 4 3 4 4 4 4 4 0 4 3 3 3 3 3\n",
            " 4 0 3 3 3 4 4 4 0 4 1 4 4 2 4 4 0 1 0 3 2 4 3]\n",
            "[3 3 0 0 4 3 3 0 1 0 1 2 2 0 4 2 4 3 4 4 3 0 3 0 3 4 4 4 4 4 0 4 3 3 3 3 3\n",
            " 4 0 3 3 3 4 4 4 0 2 1 4 4 2 4 4 0 1 0 3 2 4 3] [3 3 0 0 4 3 3 0 4 0 1 4 2 4 4 2 4 3 4 3 3 0 3 4 3 4 4 4 4 4 0 4 3 3 3 3 3\n",
            " 4 0 3 3 3 4 4 4 0 4 1 4 4 2 4 4 0 1 0 3 2 4 3]\n",
            "[3 3 0 0 4 3 3 0 1 0 1 2 2 0 4 2 4 3 4 4 3 0 3 0 3 4 4 4 4 4 0 4 3 3 3 3 3\n",
            " 4 0 3 3 3 4 4 4 0 2 1 4 4 2 4 4 0 1 0 3 2 4 3] [3 3 0 0 4 3 3 0 4 0 1 4 2 4 4 2 4 3 4 3 3 0 3 4 3 4 4 4 4 4 0 4 3 3 3 3 3\n",
            " 4 0 3 3 3 4 4 4 0 4 1 4 4 2 4 4 0 1 0 3 2 4 3]\n",
            "[3 3 0 0 4 3 3 0 1 0 1 2 2 0 4 2 4 3 4 4 3 0 3 0 3 4 4 4 4 4 0 4 3 3 3 3 3\n",
            " 4 0 3 3 3 4 4 4 0 2 1 4 4 2 4 4 0 1 0 3 2 4 3] [3 3 0 0 4 3 3 0 4 0 1 4 2 4 4 2 4 3 4 3 3 0 3 4 3 4 4 4 4 4 0 4 3 3 3 3 3\n",
            " 4 0 3 3 3 4 4 4 0 4 1 4 4 2 4 4 0 1 0 3 2 4 3]\n",
            "[3 3 0 0 4 3 3 0 1 0 1 2 2 0 4 2 4 3 4 4 3 0 3 0 3 4 4 4 4 4 0 4 3 3 3 3 3\n",
            " 4 0 3 3 3 4 4 4 0 2 1 4 4 2 4 4 0 1 0 3 2 4 3] [3 3 0 0 4 3 3 0 4 0 1 4 2 4 4 2 4 3 4 3 3 0 3 4 3 4 4 4 4 4 0 4 3 3 3 3 3\n",
            " 4 0 3 3 3 4 4 4 0 4 1 4 4 2 4 4 0 1 0 3 2 4 3]\n",
            "[3 3 0 0 4 3 3 0 1 0 1 2 2 0 4 2 4 3 4 4 3 0 3 0 3 4 4 4 4 4 0 4 3 3 3 3 3\n",
            " 4 0 3 3 3 4 4 4 0 2 1 4 4 2 4 4 0 1 0 3 2 4 3] [3 3 0 0 4 3 3 0 4 0 1 4 2 4 4 2 4 3 4 3 3 0 3 4 3 4 4 4 4 4 0 4 3 3 3 3 3\n",
            " 4 0 3 3 3 4 4 4 0 4 1 4 4 2 4 4 0 1 0 3 2 4 3]\n",
            "[3 3 0 0 4 3 3 0 1 0 1 2 2 0 4 2 4 3 4 4 3 0 3 0 3 4 4 4 4 4 0 4 3 3 3 3 3\n",
            " 4 0 3 3 3 4 4 4 0 2 1 4 4 2 4 4 0 1 0 3 2 4 3] [3 3 0 0 4 3 3 0 4 0 1 4 2 4 4 2 4 3 4 3 3 0 3 4 3 4 4 4 4 4 0 4 3 3 3 3 3\n",
            " 4 0 3 3 3 4 4 4 0 4 1 4 4 2 4 4 0 1 0 3 2 4 3]\n",
            "[3 3 0 0 4 3 3 0 1 0 1 2 2 0 4 2 4 3 4 4 3 0 3 0 3 4 4 4 4 4 0 4 3 3 3 3 3\n",
            " 4 0 3 3 3 4 4 4 0 2 1 4 4 2 4 4 0 1 0 3 2 4 3] [3 3 0 0 4 3 3 0 4 0 1 4 2 4 4 2 4 3 4 3 3 0 3 4 3 4 4 4 4 4 0 4 3 3 3 3 3\n",
            " 4 0 3 3 3 4 4 4 0 4 1 4 4 2 4 4 0 1 0 3 2 4 3]\n",
            "[3 3 0 0 4 3 3 0 1 0 1 2 2 0 4 2 4 3 4 4 3 0 3 0 3 4 4 4 4 4 0 4 3 3 3 3 3\n",
            " 4 0 3 3 3 4 4 4 0 2 1 4 4 2 4 4 0 1 0 3 2 4 3] [3 3 0 0 4 3 3 0 4 0 1 4 2 4 4 2 4 3 4 3 3 0 3 4 3 4 4 4 4 4 0 4 3 3 3 3 3\n",
            " 4 0 3 3 3 4 4 4 0 4 1 4 4 2 4 4 0 1 0 3 2 4 3]\n",
            "[3 3 0 0 4 3 3 0 1 0 1 2 2 0 4 2 4 3 4 4 3 0 3 0 3 4 4 4 4 4 0 4 3 3 3 3 3\n",
            " 4 0 3 3 3 4 4 4 0 2 1 4 4 2 4 4 0 1 0 3 2 4 3] [3 3 0 0 4 3 3 0 4 0 1 4 2 4 4 2 4 3 4 3 3 0 3 4 3 4 4 4 4 4 0 4 3 3 3 3 3\n",
            " 4 0 3 3 3 4 4 4 0 4 1 4 4 2 4 4 0 1 0 3 2 4 3]\n",
            "[3 3 0 0 4 3 3 0 1 0 1 2 2 0 4 2 4 3 4 4 3 0 3 0 3 4 4 4 4 4 0 4 3 3 3 3 3\n",
            " 4 0 3 3 3 4 4 4 0 2 1 4 4 2 4 4 0 1 0 3 2 4 3] [3 3 0 0 4 3 3 0 4 0 1 4 2 4 4 2 4 3 4 3 3 0 3 4 3 4 4 4 4 4 0 4 3 3 3 3 3\n",
            " 4 0 3 3 3 4 4 4 0 4 1 4 4 2 4 4 0 1 0 3 2 4 3]\n",
            "[3 3 0 0 4 3 3 0 1 0 1 2 2 0 4 2 4 3 4 4 3 0 3 0 3 4 4 4 4 4 0 4 3 3 3 3 3\n",
            " 4 0 3 3 3 4 4 4 0 2 1 4 4 2 4 4 0 1 0 3 2 4 3] [3 3 0 0 4 3 3 0 4 0 1 4 2 4 4 2 4 3 4 3 3 0 3 4 3 4 4 4 4 4 0 4 3 3 3 3 3\n",
            " 4 0 3 3 3 4 4 4 0 4 1 4 4 2 4 4 0 1 0 3 2 4 3]\n",
            "[3 3 0 0 4 3 3 0 1 0 1 2 2 0 4 2 4 3 4 4 3 0 3 0 3 4 4 4 4 4 0 4 3 3 3 3 3\n",
            " 4 0 3 3 3 4 4 4 0 2 1 4 4 2 4 4 0 1 0 3 2 4 3] [3 3 0 0 4 3 3 0 4 0 1 4 2 4 4 2 4 3 4 3 3 0 3 4 3 4 4 4 4 4 0 4 3 3 3 3 3\n",
            " 4 0 3 3 3 4 4 4 0 4 1 4 4 2 4 4 0 1 0 3 2 4 3]\n",
            "[3 3 0 0 4 3 3 0 1 0 1 2 2 0 4 2 4 3 4 4 3 0 3 0 3 4 4 4 4 4 0 4 3 3 3 3 3\n",
            " 4 0 3 3 3 4 4 4 0 2 1 4 4 2 4 4 0 1 0 3 2 4 3] [3 3 0 0 4 3 3 0 4 0 1 4 2 4 4 2 4 3 4 3 3 0 3 4 3 4 4 4 4 4 0 4 3 3 3 3 3\n",
            " 4 0 3 3 3 4 4 4 0 4 1 4 4 2 4 4 0 1 0 3 2 4 3]\n",
            "[3 3 0 0 4 3 3 0 1 0 1 2 2 0 4 2 4 3 4 4 3 0 3 0 3 4 4 4 4 4 0 4 3 3 3 3 3\n",
            " 4 0 3 3 3 4 4 4 0 2 1 4 4 2 4 4 0 1 0 3 2 4 3] [3 3 0 0 4 3 3 0 4 0 1 4 2 4 4 2 4 3 4 3 3 0 3 4 3 4 4 4 4 4 0 4 3 3 3 3 3\n",
            " 4 0 3 3 3 4 4 4 0 4 1 4 4 2 4 4 0 1 0 3 2 4 3]\n",
            "[3 3 0 0 4 3 3 0 1 0 1 2 2 0 4 2 4 3 4 4 3 0 3 0 3 4 4 4 4 4 0 4 3 3 3 3 3\n",
            " 4 0 3 3 3 4 4 4 0 2 1 4 4 2 4 4 0 1 0 3 2 4 3] [3 3 0 0 4 3 3 0 4 0 1 4 2 4 4 2 4 3 4 3 3 0 3 4 3 4 4 4 4 4 0 4 3 3 3 3 3\n",
            " 4 0 3 3 3 4 4 4 0 4 1 4 4 2 4 4 0 1 0 3 2 4 3]\n",
            "[3 3 0 0 4 3 3 0 1 0 1 2 2 0 4 2 4 3 4 4 3 0 3 0 3 4 4 4 4 4 0 4 3 3 3 3 3\n",
            " 4 0 3 3 3 4 4 4 0 2 1 4 4 2 4 4 0 1 0 3 2 4 3] [3 3 0 0 4 3 3 0 4 0 1 4 2 4 4 2 4 3 4 3 3 0 3 4 3 4 4 4 4 4 0 4 3 3 3 3 3\n",
            " 4 0 3 3 3 4 4 4 0 4 1 4 4 2 4 4 0 1 0 3 2 4 3]\n",
            "[3 3 0 0 4 3 3 0 1 0 1 2 2 0 4 2 4 3 4 4 3 0 3 0 3 4 4 4 4 4 0 4 3 3 3 3 3\n",
            " 4 0 3 3 3 4 4 4 0 2 1 4 4 2 4 4 0 1 0 3 2 4 3] [3 3 0 0 4 3 3 0 4 0 1 4 2 4 4 2 4 3 4 3 3 0 3 4 3 4 4 4 4 4 0 4 3 3 3 3 3\n",
            " 4 0 3 3 3 4 4 4 0 4 1 4 4 2 4 4 0 1 0 3 2 4 3]\n",
            "[3 3 0 0 4 3 3 0 1 0 1 2 2 0 4 2 4 3 4 4 3 0 3 0 3 4 4 4 4 4 0 4 3 3 3 3 3\n",
            " 4 0 3 3 3 4 4 4 0 2 1 4 4 2 4 4 0 1 0 3 2 4 3] [3 3 0 0 4 3 3 0 4 0 1 4 2 4 4 2 4 3 4 3 3 0 3 4 3 4 4 4 4 4 0 4 3 3 3 3 3\n",
            " 4 0 3 3 3 4 4 4 0 4 1 4 4 2 4 4 0 1 0 3 2 4 3]\n",
            "[3 3 0 0 4 3 3 0 1 0 1 2 2 0 4 2 4 3 4 4 3 0 3 0 3 4 4 4 4 4 0 4 3 3 3 3 3\n",
            " 4 0 3 3 3 4 4 4 0 2 1 4 4 2 4 4 0 1 0 3 2 4 3] [3 3 0 0 4 3 3 0 4 0 1 4 2 4 4 2 4 3 4 3 3 0 3 4 3 4 4 4 4 4 0 4 3 3 3 3 3\n",
            " 4 0 3 3 3 4 4 4 0 4 1 4 4 2 4 4 0 1 0 3 2 4 3]\n",
            "[3 3 0 0 4 3 3 0 1 0 1 2 2 0 4 2 4 3 4 4 3 0 3 0 3 4 4 4 4 4 0 4 3 3 3 3 3\n",
            " 4 0 3 3 3 4 4 4 0 2 1 4 4 2 4 4 0 1 0 3 2 4 3] [3 3 0 0 4 3 3 0 4 0 1 4 2 4 4 2 4 3 4 3 3 0 3 4 3 4 4 4 4 4 0 4 3 3 3 3 3\n",
            " 4 0 3 3 3 4 4 4 0 4 1 4 4 2 4 4 0 1 0 3 2 4 3]\n",
            "[3 3 0 0 4 3 3 0 1 0 1 2 2 0 4 2 4 3 4 4 3 0 3 0 3 4 4 4 4 4 0 4 3 3 3 3 3\n",
            " 4 0 3 3 3 4 4 4 0 2 1 4 4 2 4 4 0 1 0 3 2 4 3] [3 3 0 0 4 3 3 0 4 0 1 4 2 4 4 2 4 3 4 3 3 0 3 4 3 4 4 4 4 4 0 4 3 3 3 3 3\n",
            " 4 0 3 3 3 4 4 4 0 4 1 4 4 2 4 4 0 1 0 3 2 4 3]\n",
            "[3 3 0 0 4 3 3 0 1 0 1 2 2 0 4 2 4 3 4 4 3 0 3 0 3 4 4 4 4 4 0 4 3 3 3 3 3\n",
            " 4 0 3 3 3 4 4 4 0 2 1 4 4 2 4 4 0 1 0 3 2 4 3] [3 3 0 0 4 3 3 0 4 0 1 4 2 4 4 2 4 3 4 3 3 0 3 4 3 4 4 4 4 4 0 4 3 3 3 3 3\n",
            " 4 0 3 3 3 4 4 4 0 4 1 4 4 2 4 4 0 1 0 3 2 4 3]\n",
            "[3 3 0 0 4 3 3 0 1 0 1 2 2 0 4 2 4 3 4 4 3 0 3 0 3 4 4 4 4 4 0 4 3 3 3 3 3\n",
            " 4 0 3 3 3 4 4 4 0 2 1 4 4 2 4 4 0 1 0 3 2 4 3] [3 3 0 0 4 3 3 0 4 0 1 4 2 4 4 2 4 3 4 3 3 0 3 4 3 4 4 4 4 4 0 4 3 3 3 3 3\n",
            " 4 0 3 3 3 4 4 4 0 4 1 4 4 2 4 4 0 1 0 3 2 4 3]\n"
          ]
        }
      ]
    },
    {
      "cell_type": "code",
      "source": [
        "# accuracy and precision and recall of the model\n",
        "\n",
        "print(\"ACCURACY : \",accuracy_score(y_test,y_predictions)*100,\"%\")\n",
        "\n",
        "cm=confusion_matrix(y_test,y_predictions)\n",
        "tp=cm[0][0]\n",
        "fp=cm[1][0]\n",
        "fn=cm[0][1]\n",
        "\n",
        "precision = tp/(tp+fp)\n",
        "recall = tp/(tp+fn)\n",
        "print(f\"PRECISION : {precision*100} %\")\n",
        "print(f\"RECALL : {recall*100} %\")"
      ],
      "metadata": {
        "colab": {
          "base_uri": "https://localhost:8080/"
        },
        "id": "GhiPcf49DYBV",
        "outputId": "9a0f13bf-caf0-40e9-8a4c-51ab82f449f8"
      },
      "execution_count": 102,
      "outputs": [
        {
          "output_type": "stream",
          "name": "stdout",
          "text": [
            "ACCURACY :  90.0 %\n",
            "PRECISION : 100.0 %\n",
            "RECALL : 100.0 %\n"
          ]
        }
      ]
    }
  ]
}