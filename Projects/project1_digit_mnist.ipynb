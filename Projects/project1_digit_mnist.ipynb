{
  "nbformat": 4,
  "nbformat_minor": 0,
  "metadata": {
    "colab": {
      "provenance": [],
      "authorship_tag": "ABX9TyOgOKpBrv6AEbG6/iTkz5gM",
      "include_colab_link": true
    },
    "kernelspec": {
      "name": "python3",
      "display_name": "Python 3"
    },
    "language_info": {
      "name": "python"
    }
  },
  "cells": [
    {
      "cell_type": "markdown",
      "metadata": {
        "id": "view-in-github",
        "colab_type": "text"
      },
      "source": [
        "<a href=\"https://colab.research.google.com/github/NagulapalliSudarshan/MachineLearning/blob/main/Projects/project1_MNIST.ipynb\" target=\"_parent\"><img src=\"https://colab.research.google.com/assets/colab-badge.svg\" alt=\"Open In Colab\"/></a>"
      ]
    },
    {
      "cell_type": "code",
      "execution_count": null,
      "metadata": {
        "id": "eKxJcuEwTTZ3"
      },
      "outputs": [],
      "source": [
        "import tensorflow as tf\n",
        "from tensorflow import keras\n",
        "\n",
        "import numpy as np\n",
        "import matplotlib.pyplot as plt"
      ]
    },
    {
      "cell_type": "markdown",
      "source": [
        "Dataset that is used is MNIST Fashion dataset"
      ],
      "metadata": {
        "id": "UxftCOFtTrfr"
      }
    },
    {
      "cell_type": "code",
      "source": [
        "fashion_mnist = keras.datasets.fashion_mnist\n",
        "\n",
        "(train_images,train_labels),(test_images,test_labels)= fashion_mnist.load_data()"
      ],
      "metadata": {
        "id": "I23BH2BWToQj"
      },
      "execution_count": null,
      "outputs": []
    },
    {
      "cell_type": "code",
      "source": [
        "print(train_images.shape)\n",
        "type(train_images)"
      ],
      "metadata": {
        "id": "tn8hlD4kUcsO"
      },
      "execution_count": null,
      "outputs": []
    },
    {
      "cell_type": "code",
      "source": [
        "train_images[0,23,23]"
      ],
      "metadata": {
        "id": "UM_WBP6fUs9Q"
      },
      "execution_count": null,
      "outputs": []
    },
    {
      "cell_type": "markdown",
      "source": [
        "0 - white  \n",
        "\n",
        "255 - black"
      ],
      "metadata": {
        "id": "bJmSdXRTVCZe"
      }
    },
    {
      "cell_type": "code",
      "source": [
        "train_labels[:10]"
      ],
      "metadata": {
        "colab": {
          "base_uri": "https://localhost:8080/"
        },
        "id": "B0Et4RmWVK4g",
        "outputId": "58dad2f7-d477-4416-8fd4-cfdab986f71b"
      },
      "execution_count": null,
      "outputs": [
        {
          "output_type": "execute_result",
          "data": {
            "text/plain": [
              "array([9, 0, 0, 3, 0, 2, 7, 2, 5, 5], dtype=uint8)"
            ]
          },
          "metadata": {},
          "execution_count": 8
        }
      ]
    },
    {
      "cell_type": "code",
      "source": [
        "class_names = ['T-shirt/top','Trouser','Pullover','Dress','Coat',\n",
        "               'Sandal','Shirt','Sneaker','Bag','Ankle boot']"
      ],
      "metadata": {
        "id": "-fKpyJ4mVYvP"
      },
      "execution_count": null,
      "outputs": []
    },
    {
      "cell_type": "code",
      "source": [
        "plt.figure()\n",
        "plt.imshow(train_images[1])\n",
        "plt.colorbar()\n",
        "plt.grid=[]\n",
        "plt.show()"
      ],
      "metadata": {
        "id": "j9rP2HhhV0-O"
      },
      "execution_count": null,
      "outputs": []
    },
    {
      "cell_type": "code",
      "source": [
        "train_images = train_images / 255.0\n",
        "test_images = test_images / 255.0"
      ],
      "metadata": {
        "id": "-M4DXFnjX0aU"
      },
      "execution_count": null,
      "outputs": []
    },
    {
      "cell_type": "markdown",
      "source": [
        "**1. building the model**\n"
      ],
      "metadata": {
        "id": "MzlHi2P4YGl6"
      }
    },
    {
      "cell_type": "code",
      "source": [
        "model = keras.Sequential([\n",
        "    keras.layers.Flatten(input_shape=(28,28)), # input layer (1)\n",
        "    keras.layers.Dense(128,activation='relu'), # hidden layer (2)\n",
        "    keras.layers.Dense(10,activation='softmax') # output layer (3)\n",
        "])\n"
      ],
      "metadata": {
        "id": "NVaMdKNrYNLX"
      },
      "execution_count": null,
      "outputs": []
    },
    {
      "cell_type": "markdown",
      "source": [
        "**2. compiling the model**"
      ],
      "metadata": {
        "id": "OBf5CA8hZRTb"
      }
    },
    {
      "cell_type": "code",
      "source": [
        "model.compile(optimizer = 'adam',\n",
        "              loss='sparse_categorical_crossentropy',\n",
        "              metrics = ['accuracy'])\n"
      ],
      "metadata": {
        "id": "e_4UrWjaY7d4"
      },
      "execution_count": null,
      "outputs": []
    },
    {
      "cell_type": "markdown",
      "source": [
        "**3.training the model**\n"
      ],
      "metadata": {
        "id": "6ihmJBSVZXP8"
      }
    },
    {
      "cell_type": "code",
      "source": [
        "print(train_images.shape)\n",
        "print(train_labels.shape)"
      ],
      "metadata": {
        "colab": {
          "base_uri": "https://localhost:8080/"
        },
        "id": "fgnJaYsoaqFa",
        "outputId": "774d8f16-d839-4256-8b4e-acc74444f61c"
      },
      "execution_count": null,
      "outputs": [
        {
          "output_type": "stream",
          "name": "stdout",
          "text": [
            "(60000, 28, 28)\n",
            "(60000,)\n"
          ]
        }
      ]
    },
    {
      "cell_type": "code",
      "source": [
        "model.fit(train_images,train_labels,epochs=1)"
      ],
      "metadata": {
        "id": "Ny0AaiXkZcWO"
      },
      "execution_count": null,
      "outputs": []
    },
    {
      "cell_type": "markdown",
      "source": [
        "**4.testing the model**"
      ],
      "metadata": {
        "id": "F1sTnEnobD_o"
      }
    },
    {
      "cell_type": "code",
      "source": [
        "test_loss,test_acc = model.evaluate(test_images,test_labels,verbose = 1)\n",
        "print(test_loss)\n",
        "print(test_acc) # accuracy will decrease as the model is overfit"
      ],
      "metadata": {
        "id": "2DjpnBiybCdc"
      },
      "execution_count": null,
      "outputs": []
    },
    {
      "cell_type": "markdown",
      "source": [
        "**5.predictions**"
      ],
      "metadata": {
        "id": "p3uy_CRJcknd"
      }
    },
    {
      "cell_type": "code",
      "source": [
        "predictions = model.predict(test_images)"
      ],
      "metadata": {
        "id": "JyVswZlpckG8"
      },
      "execution_count": null,
      "outputs": []
    },
    {
      "cell_type": "code",
      "source": [
        "print(test_images.shape)\n",
        "print(predictions[0])\n",
        "print(class_names[np.argmax(predictions[2])]) #argmax returns the index of maxval in the array"
      ],
      "metadata": {
        "id": "B8U7ZnGhc4bM"
      },
      "execution_count": null,
      "outputs": []
    },
    {
      "cell_type": "code",
      "source": [
        "plt.figure()\n",
        "plt.imshow(test_images[2])\n",
        "plt.colorbar()\n",
        "plt.grid=[]\n",
        "plt.show()"
      ],
      "metadata": {
        "id": "Usjszwi0dgIk"
      },
      "execution_count": null,
      "outputs": []
    },
    {
      "cell_type": "code",
      "source": [],
      "metadata": {
        "id": "d2agOg3pd6Z_"
      },
      "execution_count": null,
      "outputs": []
    }
  ]
}
