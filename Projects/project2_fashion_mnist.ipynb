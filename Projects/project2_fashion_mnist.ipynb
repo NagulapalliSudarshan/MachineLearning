{
  "nbformat": 4,
  "nbformat_minor": 0,
  "metadata": {
    "colab": {
      "provenance": [],
      "authorship_tag": "ABX9TyPQjGHlfr6s5SWTZvsbWY79",
      "include_colab_link": true
    },
    "kernelspec": {
      "name": "python3",
      "display_name": "Python 3"
    },
    "language_info": {
      "name": "python"
    }
  },
  "cells": [
    {
      "cell_type": "markdown",
      "metadata": {
        "id": "view-in-github",
        "colab_type": "text"
      },
      "source": [
        "<a href=\"https://colab.research.google.com/github/NagulapalliSudarshan/MachineLearning/blob/main/Projects/project2_fashion_mnist.ipynb\" target=\"_parent\"><img src=\"https://colab.research.google.com/assets/colab-badge.svg\" alt=\"Open In Colab\"/></a>"
      ]
    },
    {
      "cell_type": "markdown",
      "source": [
        "#loading and seeing the data"
      ],
      "metadata": {
        "id": "AV2sHiUj-XJk"
      }
    },
    {
      "cell_type": "code",
      "execution_count": null,
      "metadata": {
        "id": "izTnEd2rqBhk"
      },
      "outputs": [],
      "source": [
        "import tensorflow as tf\n",
        "from tensorflow import keras\n",
        "\n",
        "import numpy as np\n",
        "import matplotlib.pyplot as plt\n"
      ]
    },
    {
      "cell_type": "code",
      "source": [
        "data = keras.datasets.fashion_mnist"
      ],
      "metadata": {
        "id": "EcHdPKBK-Wnv"
      },
      "execution_count": null,
      "outputs": []
    },
    {
      "cell_type": "code",
      "source": [
        "(train_images,train_labels),(test_images,test_labels)=data.load_data()"
      ],
      "metadata": {
        "id": "t9K7sAec-r3n"
      },
      "execution_count": null,
      "outputs": []
    },
    {
      "cell_type": "code",
      "source": [
        "# there are 10 labels (0-9)\n",
        "class_names = ['T-shirt/top','Trouser','Pullover','Dress','Coat',\n",
        "               'Sandal','Shirt','Sneaker','Bag','Ankle boot ']"
      ],
      "metadata": {
        "id": "rO13uwrU-1JT"
      },
      "execution_count": null,
      "outputs": []
    },
    {
      "cell_type": "code",
      "source": [
        "plt.imshow(train_images[7],cmap=plt.cm.binary)\n",
        "plt.show()"
      ],
      "metadata": {
        "id": "O6WOpUU9AZvJ"
      },
      "execution_count": null,
      "outputs": []
    },
    {
      "cell_type": "code",
      "source": [
        "\n",
        "print(len(train_images[0][0]))\n",
        "print(train_images.shape)"
      ],
      "metadata": {
        "id": "sXIA8Tf5CPzy"
      },
      "execution_count": null,
      "outputs": []
    },
    {
      "cell_type": "code",
      "source": [
        "# scaling down the values to be between 0 - 1\n",
        "\n",
        "train_images = train_images/255\n",
        "test_images = test_images/255\n",
        "print(train_images)\n"
      ],
      "metadata": {
        "id": "KJz2kPhsB67K"
      },
      "execution_count": null,
      "outputs": []
    },
    {
      "cell_type": "markdown",
      "source": [
        "# creating the model\n"
      ],
      "metadata": {
        "id": "3J0SU_2zCZwU"
      }
    },
    {
      "cell_type": "code",
      "source": [
        "# creating the model\n",
        "\n",
        "model = keras.Sequential([\n",
        "    keras.layers.Flatten(input_shape=(28,28)),\n",
        "    keras.layers.Dense(128,activation=\"relu\"),\n",
        "    keras.layers.Dense(10,activation=\"softmax\")\n",
        "])\n",
        "\n",
        "model.compile(optimizer=\"adam\",\n",
        "              loss=\"sparse_categorical_crossentropy\",\n",
        "              metrics=[\"accuracy\"])\n",
        "\n",
        "# training the model\n",
        "\n",
        "model.fit(train_images,train_labels,epochs=10)"
      ],
      "metadata": {
        "id": "alnNLR5lCeTf"
      },
      "execution_count": null,
      "outputs": []
    },
    {
      "cell_type": "code",
      "source": [
        "test_loss,test_acc = model.evaluate(test_images,test_labels)\n",
        "print(\"Tested accuracy : \",test_acc)"
      ],
      "metadata": {
        "id": "5NKXrnXcFVDp"
      },
      "execution_count": null,
      "outputs": []
    },
    {
      "cell_type": "markdown",
      "source": [
        "# using the model to make predictions"
      ],
      "metadata": {
        "id": "2YQd4P5bGjkq"
      }
    },
    {
      "cell_type": "code",
      "source": [
        "predictions = model.predict(test_images)\n",
        "print(class_names[np.argmax(predictions[0])])"
      ],
      "metadata": {
        "id": "VfcfMXqCGfgM"
      },
      "execution_count": null,
      "outputs": []
    },
    {
      "cell_type": "code",
      "source": [
        "for i in range(5):\n",
        "  plt.grid(False)\n",
        "  plt.imshow(test_images[i],cmap=plt.cm.binary)\n",
        "  plt.xlabel(\"Actual : \"+class_names[test_labels[i]])\n",
        "  plt.title(\"prediction : \" + class_names[np.argmax(predictions[i])])\n",
        "  plt.show()\n"
      ],
      "metadata": {
        "id": "gdp32bZ9HV0k"
      },
      "execution_count": null,
      "outputs": []
    }
  ]
}