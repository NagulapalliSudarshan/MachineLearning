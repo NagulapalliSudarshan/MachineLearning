{
  "nbformat": 4,
  "nbformat_minor": 0,
  "metadata": {
    "colab": {
      "provenance": [],
      "authorship_tag": "ABX9TyNkHMOMpCL5jODx1diVqzIU",
      "include_colab_link": true
    },
    "kernelspec": {
      "name": "python3",
      "display_name": "Python 3"
    },
    "language_info": {
      "name": "python"
    }
  },
  "cells": [
    {
      "cell_type": "markdown",
      "metadata": {
        "id": "view-in-github",
        "colab_type": "text"
      },
      "source": [
        "<a href=\"https://colab.research.google.com/github/NagulapalliSudarshan/MachineLearning/blob/main/Projects/tensorflow7_textClassification.ipynb\" target=\"_parent\"><img src=\"https://colab.research.google.com/assets/colab-badge.svg\" alt=\"Open In Colab\"/></a>"
      ]
    },
    {
      "cell_type": "code",
      "execution_count": 1,
      "metadata": {
        "id": "t2jgCc91Gqv6"
      },
      "outputs": [],
      "source": [
        "import numpy as np\n",
        "import tensorflow as tf\n",
        "from tensorflow import keras\n",
        "import matplotlib.pyplot as plt\n"
      ]
    },
    {
      "cell_type": "code",
      "source": [
        "data = keras.datasets.imdb"
      ],
      "metadata": {
        "id": "A6wa_lNNHS0f"
      },
      "execution_count": 3,
      "outputs": []
    },
    {
      "cell_type": "code",
      "source": [
        "(train_data,train_labels),(test_data,test_labels) = data.load_data(num_words=10000)"
      ],
      "metadata": {
        "id": "2ovmJJeNHZkL"
      },
      "execution_count": 8,
      "outputs": []
    },
    {
      "cell_type": "code",
      "source": [
        "print(train_data)"
      ],
      "metadata": {
        "id": "grh_MrbhHuHO"
      },
      "execution_count": null,
      "outputs": []
    },
    {
      "cell_type": "code",
      "source": [
        "word_index = data.get_word_index()\n",
        "\n",
        "word_index = {k:(v+3) for k,v in word_index.items()}\n",
        "word_index['<PAD>']=0\n",
        "word_index['<START>']=1\n",
        "word_index['<UNK>']=2\n",
        "word_index['<UNUSED>']=3\n",
        "\n",
        "reverse_word_index = dict([(value,key) for (key,value) in word_index.items()])\n",
        "\n",
        "def decode_review(text):\n",
        "  return \" \".join([reverse_word_index.get(i,\"?\") for i in text])\n",
        "print(decode_review(test_data[0]))"
      ],
      "metadata": {
        "id": "59c6akS_ICVa"
      },
      "execution_count": null,
      "outputs": []
    },
    {
      "cell_type": "code",
      "source": [
        "print(len(test_data[0]),len(test_data[1]))\n",
        "# reviews are of different sizes so we have to make it the same length"
      ],
      "metadata": {
        "id": "Mki5TQOeLoM3"
      },
      "execution_count": null,
      "outputs": []
    },
    {
      "cell_type": "code",
      "source": [
        "# adding padding at the last of data which are not 250 length\n",
        "# if review is more than 250 then it is trimmed\n",
        "\n",
        "train_data = keras.preprocessing.sequence.pad_sequences(train_data,value = word_index['<PAD>'],padding=\"post\",maxlen=250)\n",
        "test_data = keras.preprocessing.sequence.pad_sequences(test_data,value = word_index['<PAD>'],padding=\"post\",maxlen=250)"
      ],
      "metadata": {
        "id": "3defCcvoL5mJ"
      },
      "execution_count": 12,
      "outputs": []
    },
    {
      "cell_type": "code",
      "source": [
        "# model creation\n",
        "\n",
        "model = keras.Sequential([])\n",
        "model.add(keras.layers.Embedding(10000,16))\n",
        "model.add(keras.layers.GlobalAveragePooling1D())\n",
        "model.add(keras.layers.Dense(16,activation=\"relu\"))\n",
        "model.add(keras.layers.Dense(1,activation=\"sigmoid\"))\n",
        "\n"
      ],
      "metadata": {
        "id": "B2zen3_VMraz"
      },
      "execution_count": 14,
      "outputs": []
    },
    {
      "cell_type": "code",
      "source": [
        "model.summary()"
      ],
      "metadata": {
        "id": "4adYivwPQ7KV"
      },
      "execution_count": null,
      "outputs": []
    },
    {
      "cell_type": "code",
      "source": [
        "model.compile(optimizer=\"adam\",\n",
        "              loss=\"binary_crossentropy\",\n",
        "              metrics=['accuracy'])\n"
      ],
      "metadata": {
        "id": "CH_4D0oFQ9K5"
      },
      "execution_count": 16,
      "outputs": []
    },
    {
      "cell_type": "code",
      "source": [
        "# splitting the train into validation and train\n",
        "\n",
        "x_val = train_data[:10000]\n",
        "y_val = train_labels[:10000]\n",
        "\n",
        "x_train = train_data[10000:]\n",
        "y_train = train_labels[10000:]\n"
      ],
      "metadata": {
        "id": "qb6n740PRJMD"
      },
      "execution_count": 18,
      "outputs": []
    },
    {
      "cell_type": "code",
      "source": [
        "fitModel = model.fit(x_train,y_train,epochs=40,batch_size=512,validation_data=(x_val,y_val),verbose=1)"
      ],
      "metadata": {
        "id": "tqrOzuVTSRzj"
      },
      "execution_count": null,
      "outputs": []
    },
    {
      "cell_type": "code",
      "source": [
        "results = model.evaluate(test_data,test_labels)\n",
        "print(results)"
      ],
      "metadata": {
        "id": "NvVRyrGES0So"
      },
      "execution_count": null,
      "outputs": []
    },
    {
      "cell_type": "code",
      "source": [
        "# predictions\n",
        "\n",
        "# test_review = test_data[0]\n",
        "# predict = model.predict([test_review])\n",
        "\n",
        "# print(\"REVIEW : \\n\",decode_review(test_review))\n",
        "# print(\"PREDICTIONS : \" + str(predict[0]))\n",
        "# print(\"ACTUAL : \" + str(test_labels[0]))\n",
        "# print(results)"
      ],
      "metadata": {
        "id": "aWjZzA1VULR5"
      },
      "execution_count": null,
      "outputs": []
    }
  ]
}
