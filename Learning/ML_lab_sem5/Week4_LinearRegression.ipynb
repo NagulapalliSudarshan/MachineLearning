{
  "nbformat": 4,
  "nbformat_minor": 0,
  "metadata": {
    "colab": {
      "provenance": [],
      "authorship_tag": "ABX9TyN0qyez+MOdMOGInIiyRBhZ",
      "include_colab_link": true
    },
    "kernelspec": {
      "name": "python3",
      "display_name": "Python 3"
    },
    "language_info": {
      "name": "python"
    }
  },
  "cells": [
    {
      "cell_type": "markdown",
      "metadata": {
        "id": "view-in-github",
        "colab_type": "text"
      },
      "source": [
        "<a href=\"https://colab.research.google.com/github/NagulapalliSudarshan/MachineLearning/blob/main/Learning/ML_lab_sem5/Week4_LinearRegression.ipynb\" target=\"_parent\"><img src=\"https://colab.research.google.com/assets/colab-badge.svg\" alt=\"Open In Colab\"/></a>"
      ]
    },
    {
      "cell_type": "markdown",
      "source": [
        "#Linear Regression"
      ],
      "metadata": {
        "id": "rHsizpGsqGsE"
      }
    },
    {
      "cell_type": "markdown",
      "source": [
        "on diabetes dataset\n"
      ],
      "metadata": {
        "id": "pHizQqkLqLoU"
      }
    },
    {
      "cell_type": "code",
      "execution_count": null,
      "metadata": {
        "id": "5rQ7KntKpX7e"
      },
      "outputs": [],
      "source": [
        "import numpy as np\n",
        "from sklearn.datasets import load_diabetes\n",
        "from sklearn.model_selection import train_test_split\n",
        "from sklearn.metrics import r2_score,mean_squared_error,mean_absolute_error,mean_squared_log_error\n",
        "from sklearn.linear_model import LinearRegression\n",
        "import matplotlib.pyplot as plt\n"
      ]
    },
    {
      "cell_type": "code",
      "source": [
        "diabetes = load_diabetes()\n",
        "# x_diabetes ,y_diabetes= load_diabetes(return_X_y=True)\n",
        "x_diabetes , y_diabetes = diabetes.data,diabetes.target\n",
        "print(x_diabetes)\n",
        "# print(y_diabetes)\n",
        "print(diabetes.feature_names)"
      ],
      "metadata": {
        "id": "EJCHelyNr_VW"
      },
      "execution_count": null,
      "outputs": []
    },
    {
      "cell_type": "code",
      "source": [
        "# use only one feature\n",
        "x_diabetes= x_diabetes[:,np.newaxis,2]\n",
        "print(x_diabetes)"
      ],
      "metadata": {
        "id": "poT1h6XCtjVW"
      },
      "execution_count": null,
      "outputs": []
    },
    {
      "cell_type": "code",
      "source": [
        "# splitting the data part into train and test\n",
        "print(x_diabetes.shape)\n",
        "x_data_train = x_diabetes[:-30]\n",
        "print(x_data_train.shape)\n",
        "x_data_test = x_diabetes[-30:]\n",
        "print(x_data_test.shape)"
      ],
      "metadata": {
        "id": "vcqt3AqLwIDe"
      },
      "execution_count": null,
      "outputs": []
    },
    {
      "cell_type": "code",
      "source": [
        "#splitting the target part into train and test\n",
        "\n",
        "y_target_train = y_diabetes[:-30]\n",
        "y_target_test = y_diabetes[-30:]"
      ],
      "metadata": {
        "id": "LofIRt7ww5Id"
      },
      "execution_count": null,
      "outputs": []
    },
    {
      "cell_type": "code",
      "source": [
        "# fitting into the model\n",
        "\n",
        "lr_model = LinearRegression()\n",
        "lr_model.fit(x_data_train,y_target_train)"
      ],
      "metadata": {
        "id": "aTonym4pxF41"
      },
      "execution_count": null,
      "outputs": []
    },
    {
      "cell_type": "code",
      "source": [
        "# making predictions\n",
        "y_predictions = lr_model.predict(x_data_test)"
      ],
      "metadata": {
        "id": "NQgFfYUPx2Ie"
      },
      "execution_count": null,
      "outputs": []
    },
    {
      "cell_type": "code",
      "source": [
        "# intercept and coeff\n",
        "print(lr_model.coef_)\n",
        "print(lr_model.intercept_)"
      ],
      "metadata": {
        "id": "Ytps1XcfzWFV"
      },
      "execution_count": null,
      "outputs": []
    },
    {
      "cell_type": "code",
      "source": [
        "# METRICS\n",
        "\n",
        "# r2score\n",
        "print(\"R2 Score : \",r2_score(y_target_test,y_predictions))\n",
        "\n",
        "# mean squared error\n",
        "print(\"mean squared error : \",mean_squared_error(y_target_test,y_predictions))\n",
        "\n",
        "# mean_absolute_error\n",
        "print(\"mean absolute error : \",mean_absolute_error(y_target_test,y_predictions))\n",
        "\n",
        "# mean_squared_log_error\n",
        "print(\"mean squared log error : \",mean_squared_log_error(y_target_test,y_predictions))"
      ],
      "metadata": {
        "colab": {
          "base_uri": "https://localhost:8080/"
        },
        "id": "4KF36wfhyPmd",
        "outputId": "d41148be-d08f-4796-98d9-a4ddccddb03c"
      },
      "execution_count": null,
      "outputs": [
        {
          "output_type": "stream",
          "name": "stdout",
          "text": [
            "R2 Score :  0.410920728135835\n",
            "mean squared error :  3035.060115291269\n",
            "mean absolute error :  43.49286787904107\n",
            "mean squared log error :  0.24878532306595463\n"
          ]
        }
      ]
    },
    {
      "cell_type": "code",
      "source": [
        "#plotting the regression model\n",
        "\n",
        "plt.scatter(x_data_test,y_target_test,color=\"red\")\n",
        "plt.plot(x_data_test,y_predictions,color='black',linewidth=3)\n",
        "plt.title(\"Linear Regression\")\n",
        "plt.show()"
      ],
      "metadata": {
        "id": "6SPBJroa34X-"
      },
      "execution_count": null,
      "outputs": []
    },
    {
      "cell_type": "code",
      "source": [
        "fig,ax = plt.subplots(figsize=(6,3))\n",
        "data = [\n",
        "    [\"Coefficients\",lr_model.coef_],\n",
        "    [\"R2score\",r2_score(y_target_test,y_predictions)],\n",
        "    [\"mean squared error \",mean_squared_error(y_target_test,y_predictions)],\n",
        "    [\"mean absolute error \",mean_absolute_error(y_target_test,y_predictions)],\n",
        "    [\"mean squared log error \",mean_squared_log_error(y_target_test,y_predictions)],\n",
        "]\n",
        "table_data =[]\n",
        "for row in data:\n",
        "  table_data.append([row[0],str(row[1])])\n",
        "ax.axis('off')"
      ],
      "metadata": {
        "id": "WpeZ3bFnG67R"
      },
      "execution_count": null,
      "outputs": []
    }
  ]
}