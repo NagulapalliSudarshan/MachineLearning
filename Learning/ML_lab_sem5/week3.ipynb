{
  "nbformat": 4,
  "nbformat_minor": 0,
  "metadata": {
    "colab": {
      "provenance": [],
      "authorship_tag": "ABX9TyOXAHiVNMH2XOgMrVsMUTeQ",
      "include_colab_link": true
    },
    "kernelspec": {
      "name": "python3",
      "display_name": "Python 3"
    },
    "language_info": {
      "name": "python"
    }
  },
  "cells": [
    {
      "cell_type": "markdown",
      "metadata": {
        "id": "view-in-github",
        "colab_type": "text"
      },
      "source": [
        "<a href=\"https://colab.research.google.com/github/NagulapalliSudarshan/MachineLearning/blob/main/Learning/ML_lab_sem5/week3.ipynb\" target=\"_parent\"><img src=\"https://colab.research.google.com/assets/colab-badge.svg\" alt=\"Open In Colab\"/></a>"
      ]
    },
    {
      "cell_type": "markdown",
      "source": [
        "# training and testing iris data"
      ],
      "metadata": {
        "id": "u2cR0SrSArrV"
      }
    },
    {
      "cell_type": "code",
      "execution_count": null,
      "metadata": {
        "id": "eufJxzwAhOf7"
      },
      "outputs": [],
      "source": [
        "from sklearn.datasets import load_iris"
      ]
    },
    {
      "cell_type": "code",
      "source": [
        "iris_data = load_iris()\n",
        "print(iris_data,type(iris_data),sep=\"\\n\")\n"
      ],
      "metadata": {
        "id": "HqiUWc6S5ObF"
      },
      "execution_count": null,
      "outputs": []
    },
    {
      "cell_type": "code",
      "source": [
        "print(iris_data.keys())\n",
        "print(iris_data.target_names)\n",
        "print(iris_data.feature_names)"
      ],
      "metadata": {
        "id": "gq7sjI3X5ZVq"
      },
      "execution_count": null,
      "outputs": []
    },
    {
      "cell_type": "code",
      "source": [
        "data_features = iris_data.data\n",
        "data_target = iris_data.target\n",
        "print(data_features)\n",
        "print(data_target)"
      ],
      "metadata": {
        "id": "MAuI346wBSm5"
      },
      "execution_count": null,
      "outputs": []
    },
    {
      "cell_type": "code",
      "source": [
        "from sklearn.model_selection import train_test_split\n",
        "x_train,x_test,y_train,y_test = train_test_split(data_features,data_target,test_size=0.4,random_state = 1)\n",
        "print(x_train.shape)\n",
        "print(x_test.shape)\n",
        "print(y_test.shape)\n",
        "print(y_train.shape)"
      ],
      "metadata": {
        "id": "Hd4LApjU8TtV"
      },
      "execution_count": null,
      "outputs": []
    },
    {
      "cell_type": "markdown",
      "source": [
        "# SimpleImputer"
      ],
      "metadata": {
        "id": "4qezbYxpA1U1"
      }
    },
    {
      "cell_type": "code",
      "source": [
        "# simpleImputer\n",
        "# for handling null values in the dataset\n",
        "\n",
        "import numpy as np\n",
        "from sklearn.impute import SimpleImputer\n",
        "imp_learner = SimpleImputer(missing_values = np.nan,strategy=\"mean\")\n",
        "print(imp_learner)\n",
        "\n",
        "data = [[12,np.nan,34],[10,32,np.nan],[np.nan,11,20]]\n",
        "print(data)\n",
        "\n",
        "imp_learner = imp_learner.fit(data)\n",
        "print(imp_learner)\n",
        "data = imp_learner.transform(data)\n",
        "print(data)"
      ],
      "metadata": {
        "id": "5yvD9a4V_Ke5",
        "colab": {
          "base_uri": "https://localhost:8080/"
        },
        "outputId": "90d44475-3b81-4c39-d874-d1acbfff7e20"
      },
      "execution_count": null,
      "outputs": [
        {
          "output_type": "stream",
          "name": "stdout",
          "text": [
            "SimpleImputer()\n",
            "[[12, nan, 34], [10, 32, nan], [nan, 11, 20]]\n",
            "SimpleImputer()\n",
            "[[12.  21.5 34. ]\n",
            " [10.  32.  27. ]\n",
            " [11.  11.  20. ]]\n"
          ]
        }
      ]
    },
    {
      "cell_type": "markdown",
      "source": [
        "# LabelEncoder"
      ],
      "metadata": {
        "id": "07ajHgvzmvwO"
      }
    },
    {
      "cell_type": "code",
      "source": [
        "import pandas as pd\n",
        "\n",
        "my_data = {\n",
        "    \"Gender\" : ['F', 'M', 'M', 'F', 'M', 'F', 'M', 'F', 'F', 'M'],\n",
        "    \"Name\" : ['Cindy', 'Carl', 'Johnny', 'Stacey', 'Andy', 'Sara', 'Victor', 'Martha', 'Mindy', 'Max']\n",
        "        }\n",
        "# print(my_data)\n",
        "\n",
        "my_df = pd.DataFrame(my_data)\n",
        "print(my_df)\n",
        "\n",
        "count=0\n",
        "for i in range(len(my_df['Gender'])):\n",
        "  if my_df[\"Gender\"][i]==\"M\":\n",
        "    my_df[\"Gender\"][i]=1\n",
        "  else:\n",
        "    my_df[\"Gender\"][i]=0\n",
        "# print(count)\n",
        "print(my_df)\n",
        "\n",
        "print(my_df['Gender'].unique())\n",
        "\n",
        "\n"
      ],
      "metadata": {
        "id": "Ab2MMSThCAp2",
        "colab": {
          "base_uri": "https://localhost:8080/"
        },
        "outputId": "1fa91fd1-67da-40d7-a512-08fe4be00742"
      },
      "execution_count": null,
      "outputs": [
        {
          "output_type": "stream",
          "name": "stdout",
          "text": [
            "  Gender    Name\n",
            "0      F   Cindy\n",
            "1      M    Carl\n",
            "2      M  Johnny\n",
            "3      F  Stacey\n",
            "4      M    Andy\n",
            "5      F    Sara\n",
            "6      M  Victor\n",
            "7      F  Martha\n",
            "8      F   Mindy\n",
            "9      M     Max\n",
            "  Gender    Name\n",
            "0      0   Cindy\n",
            "1      1    Carl\n",
            "2      1  Johnny\n",
            "3      0  Stacey\n",
            "4      1    Andy\n",
            "5      0    Sara\n",
            "6      1  Victor\n",
            "7      0  Martha\n",
            "8      0   Mindy\n",
            "9      1     Max\n",
            "[0 1]\n"
          ]
        }
      ]
    },
    {
      "cell_type": "markdown",
      "source": [
        "#Binarizer\n"
      ],
      "metadata": {
        "id": "MxTTGNFLm1w2"
      }
    },
    {
      "cell_type": "code",
      "source": [
        "import numpy as np\n",
        "from sklearn.preprocessing import Binarizer\n",
        "data = np.array([[3, -1.5, 2, -5.4], [0, 4, -0.3, 2.1], [1, 3.3,-1.9,-4.3]])\n",
        "print(\"---Orginal data.............\")\n",
        "print(data)\n",
        "data_binarized = Binarizer(threshold=1.4).transform(data)\n",
        "print(\"...After Binarizer...... \")\n",
        "print(data_binarized)"
      ],
      "metadata": {
        "id": "t3lY-Wx4m4RZ",
        "colab": {
          "base_uri": "https://localhost:8080/"
        },
        "outputId": "8f4867c5-e48d-4ed9-daa3-8285f98c04fe"
      },
      "execution_count": null,
      "outputs": [
        {
          "output_type": "stream",
          "name": "stdout",
          "text": [
            "---Orginal data.............\n",
            "[[ 3.  -1.5  2.  -5.4]\n",
            " [ 0.   4.  -0.3  2.1]\n",
            " [ 1.   3.3 -1.9 -4.3]]\n",
            "...After Binarizer...... \n",
            "[[1. 0. 1. 0.]\n",
            " [0. 1. 0. 1.]\n",
            " [0. 1. 0. 0.]]\n"
          ]
        }
      ]
    }
  ]
}