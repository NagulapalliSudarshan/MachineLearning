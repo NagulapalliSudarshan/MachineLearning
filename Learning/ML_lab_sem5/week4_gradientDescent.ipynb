{
  "nbformat": 4,
  "nbformat_minor": 0,
  "metadata": {
    "colab": {
      "provenance": [],
      "authorship_tag": "ABX9TyMamHGs+rteS45Y5Cwx/EiR",
      "include_colab_link": true
    },
    "kernelspec": {
      "name": "python3",
      "display_name": "Python 3"
    },
    "language_info": {
      "name": "python"
    }
  },
  "cells": [
    {
      "cell_type": "markdown",
      "metadata": {
        "id": "view-in-github",
        "colab_type": "text"
      },
      "source": [
        "<a href=\"https://colab.research.google.com/github/NagulapalliSudarshan/MachineLearning/blob/main/Learning/ML_lab_sem5/week4_gradientDescent.ipynb\" target=\"_parent\"><img src=\"https://colab.research.google.com/assets/colab-badge.svg\" alt=\"Open In Colab\"/></a>"
      ]
    },
    {
      "cell_type": "markdown",
      "source": [
        "#Gradient Descent\n"
      ],
      "metadata": {
        "id": "gmNoT8Ge8KKP"
      }
    },
    {
      "cell_type": "markdown",
      "source": [
        "**on function y=x^2**"
      ],
      "metadata": {
        "id": "P7v0cJG37WhQ"
      }
    },
    {
      "cell_type": "code",
      "execution_count": 1,
      "metadata": {
        "id": "EW-bKV8epTXw"
      },
      "outputs": [],
      "source": [
        "import numpy as np\n",
        "import matplotlib.pyplot as plt\n"
      ]
    },
    {
      "cell_type": "code",
      "source": [
        "def y_function(x):\n",
        "  return x**2\n",
        "\n",
        "def y_derivative(x):\n",
        "  return 2*x"
      ],
      "metadata": {
        "id": "pTS-9q_zBoLx"
      },
      "execution_count": 2,
      "outputs": []
    },
    {
      "cell_type": "code",
      "source": [
        "x = np.arange(-100,100,0.1)\n",
        "print(x)\n",
        "\n",
        "y = y_function(x)"
      ],
      "metadata": {
        "colab": {
          "base_uri": "https://localhost:8080/"
        },
        "id": "qFcsbw6YB5Rm",
        "outputId": "b92e409a-f0ee-423a-a001-e56c8f984fce"
      },
      "execution_count": 3,
      "outputs": [
        {
          "output_type": "stream",
          "name": "stdout",
          "text": [
            "[-100.   -99.9  -99.8 ...   99.7   99.8   99.9]\n"
          ]
        }
      ]
    },
    {
      "cell_type": "code",
      "source": [
        "current_point = [80,y_function(80)]\n",
        "learning_rate=0.01\n",
        "plt.plot(x,y)\n",
        "plt.scatter(current_point[0],current_point[1],color=\"red\")\n",
        "plt.pause(0.001)\n",
        "plt.show()\n"
      ],
      "metadata": {
        "id": "Rhnsl7PwCaSI"
      },
      "execution_count": null,
      "outputs": []
    },
    {
      "cell_type": "code",
      "source": [
        "for i in range(1000):\n",
        "  new_x = current_point[0]-learning_rate*y_derivative(current_point[0])\n",
        "  new_y = current_point[1]-learning_rate*y_derivative(current_point[1])\n",
        "  current_point=(new_x,new_y)\n",
        "plt.plot(x,y)\n",
        "plt.scatter(current_point[0],current_point[1],color=\"red\")\n",
        "plt.pause(0.001)\n",
        "plt.show()\n"
      ],
      "metadata": {
        "id": "EJYwprm_DYCu"
      },
      "execution_count": null,
      "outputs": []
    },
    {
      "cell_type": "markdown",
      "source": [
        "**on inbuilt dataset**"
      ],
      "metadata": {
        "id": "V_cYmpzt7ia5"
      }
    },
    {
      "cell_type": "code",
      "source": [
        "import numpy as np\n",
        "import pandas as pd\n",
        "import matplotlib.pyplot as plt\n",
        "from sklearn.model_selection import train_test_split\n",
        "from sklearn.datasets import load_diabetes\n",
        "from sklearn.metrics import r2_score,mean_absolute_error,mean_squared_error,mean_squared_log_error\n",
        "\n",
        "from sklearn.linear_model import SGDRegressor  # gradient descent"
      ],
      "metadata": {
        "id": "no5aAUK7FEhZ"
      },
      "execution_count": 9,
      "outputs": []
    },
    {
      "cell_type": "code",
      "source": [
        "data = load_diabetes()\n",
        "x_Data = data.data\n",
        "y_Data = data.target\n"
      ],
      "metadata": {
        "id": "__4Dg8nh8fty"
      },
      "execution_count": 10,
      "outputs": []
    },
    {
      "cell_type": "code",
      "source": [
        "# train test splitting\n",
        "\n",
        "x_train,x_test,y_train,y_test = train_test_split(x_Data,y_Data,test_size=0.2,random_state = 1)\n",
        "\n",
        "# print(x_train.shape)\n",
        "# print(y_train.shape)\n",
        "# print(y_test.shape)\n",
        "# print(x_test.shape)"
      ],
      "metadata": {
        "id": "Lkt_9buh8xST"
      },
      "execution_count": null,
      "outputs": []
    },
    {
      "cell_type": "code",
      "source": [
        "# fitting the model\n",
        "\n",
        "gd_model = SGDRegressor(max_iter=7250,tol=1e-3)\n",
        "\n",
        "gd_model.fit(x_train,y_train)\n",
        "print(gd_model)"
      ],
      "metadata": {
        "colab": {
          "base_uri": "https://localhost:8080/"
        },
        "id": "2KbVbqUY9Tic",
        "outputId": "c68b87e5-6d7f-4918-c76d-b26b13a4f149"
      },
      "execution_count": 34,
      "outputs": [
        {
          "output_type": "stream",
          "name": "stdout",
          "text": [
            "SGDRegressor(max_iter=7250)\n"
          ]
        }
      ]
    },
    {
      "cell_type": "code",
      "source": [
        "# predicting and analysis\n",
        "\n",
        "y_predictions = gd_model.predict(x_test)\n",
        "\n",
        "print(\"r2 score : \",r2_score(y_test,y_predictions))\n",
        "print(\"mean sqaured error : \",mean_squared_error(y_test,y_predictions))\n",
        "print(\"root mean sqaured error  : \",np.sqrt(mean_squared_error(y_test,y_predictions)))\n",
        "print(\"mean absolute error : \",mean_absolute_error(y_test,y_predictions))\n",
        "print(\"mean sqaured log error : \",mean_squared_log_error(y_test,y_predictions))"
      ],
      "metadata": {
        "colab": {
          "base_uri": "https://localhost:8080/"
        },
        "id": "WN2wJ1n2-5d_",
        "outputId": "29ba3925-4b7a-476e-9e08-45f0c706f93c"
      },
      "execution_count": 36,
      "outputs": [
        {
          "output_type": "stream",
          "name": "stdout",
          "text": [
            "r2 score :  0.4333200224964002\n",
            "mean sqaured error :  3019.820787871422\n",
            "root mean sqaured error  :  54.95289608265812\n",
            "mean absolute error :  42.54376902428069\n",
            "mean sqaured log error :  0.14071944364326658\n"
          ]
        }
      ]
    },
    {
      "cell_type": "code",
      "source": [
        "result_dictionary={\n",
        "    \"Model\": \"Gradent Descent\",\n",
        "    \"R2 Score \": r2_score(y_test,y_predictions),\n",
        "    \"Mean Squared Error (MSE)\": mean_squared_error(y_test,y_predictions),\n",
        "    \"Root Mean Squared Error (RMSE)\" : np.sqrt(mean_squared_error(y_test,y_predictions)),\n",
        "    \"Mean Absolute Error (MAE)\": mean_absolute_error(y_test,y_predictions),\n",
        "    \"Mean Sqaured Log Error \" : mean_squared_log_error(y_test,y_predictions)\n",
        "}\n",
        "result_df = pd.DataFrame(result_dictionary,index=np.arange(1))\n",
        "print(result_df)"
      ],
      "metadata": {
        "colab": {
          "base_uri": "https://localhost:8080/"
        },
        "id": "Eozc43iCAJ0R",
        "outputId": "b6e028c3-7dc5-4314-c638-6d21b6bf7a3f"
      },
      "execution_count": 63,
      "outputs": [
        {
          "output_type": "stream",
          "name": "stdout",
          "text": [
            "             Model  R2 Score   Mean Squared Error (MSE)  \\\n",
            "0  Gradent Descent    0.43332               3019.820788   \n",
            "\n",
            "   Root Mean Squared Error (RMSE)  Mean Absolute Error (MAE)  \\\n",
            "0                       54.952896                  42.543769   \n",
            "\n",
            "   Mean Sqaured Log Error   \n",
            "0                 0.140719  \n"
          ]
        }
      ]
    },
    {
      "cell_type": "code",
      "source": [
        "result_dict2 = {\n",
        "    \"Gradient Descent\" : [r2_score(y_test,y_predictions),\n",
        "                          mean_squared_error(y_test,y_predictions),\n",
        "                          np.sqrt(mean_squared_error(y_test,y_predictions)),\n",
        "                          mean_absolute_error(y_test,y_predictions),\n",
        "                          mean_squared_log_error(y_test,y_predictions)]\n",
        "}\n",
        "indices = [\"R2 Score \",\"Mean Squared Error (MSE)\",\"Root Mean Squared Error (RMSE)\",\"Mean Absolute Error (MAE)\",\"Mean Sqaured Log Error \"]\n",
        "\n",
        "result_df2 = pd.DataFrame(result_dict2,index = indices)\n",
        "print(result_df2)"
      ],
      "metadata": {
        "colab": {
          "base_uri": "https://localhost:8080/"
        },
        "id": "N9Q2-TI_Jt1b",
        "outputId": "99dd88cc-ae02-48c0-d4bf-836b75fb1f2f"
      },
      "execution_count": 64,
      "outputs": [
        {
          "output_type": "stream",
          "name": "stdout",
          "text": [
            "                                Gradient Descent\n",
            "R2 Score                                0.433320\n",
            "Mean Squared Error (MSE)             3019.820788\n",
            "Root Mean Squared Error (RMSE)         54.952896\n",
            "Mean Absolute Error (MAE)              42.543769\n",
            "Mean Sqaured Log Error                  0.140719\n"
          ]
        }
      ]
    }
  ]
}