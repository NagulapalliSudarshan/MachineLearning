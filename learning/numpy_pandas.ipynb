{
  "nbformat": 4,
  "nbformat_minor": 0,
  "metadata": {
    "colab": {
      "provenance": [],
      "authorship_tag": "ABX9TyMG3duB6C/aGa/wy6gtWpDI",
      "include_colab_link": true
    },
    "kernelspec": {
      "name": "python3",
      "display_name": "Python 3"
    },
    "language_info": {
      "name": "python"
    }
  },
  "cells": [
    {
      "cell_type": "markdown",
      "metadata": {
        "id": "view-in-github",
        "colab_type": "text"
      },
      "source": [
        "<a href=\"https://colab.research.google.com/github/NagulapalliSudarshan/MachineLearning/blob/main/learning/numpy_pandas.ipynb\" target=\"_parent\"><img src=\"https://colab.research.google.com/assets/colab-badge.svg\" alt=\"Open In Colab\"/></a>"
      ]
    },
    {
      "cell_type": "markdown",
      "source": [
        "**https://drive.google.com/drive/folders/1fxMMr5ucYaMVn0SZNFnEkukEy_3WEqHa**"
      ],
      "metadata": {
        "id": "WX67w3vx2VJZ"
      }
    },
    {
      "cell_type": "markdown",
      "source": [
        "#NUMPY"
      ],
      "metadata": {
        "id": "NEunaaNb0uU_"
      }
    },
    {
      "cell_type": "code",
      "execution_count": null,
      "metadata": {
        "id": "gi11_tebvct4"
      },
      "outputs": [],
      "source": [
        "import numpy as np"
      ]
    },
    {
      "cell_type": "code",
      "source": [
        "arr1 = np.array([1,2,3,4,5],dtype = np.int8)\n",
        "print(arr1)\n",
        "print(arr1.dtype)\n",
        "print(arr1.ndim)\n",
        "print(arr1.shape)\n",
        "print(arr1.size)"
      ],
      "metadata": {
        "id": "Lp7LqM-5yHXC"
      },
      "execution_count": null,
      "outputs": []
    },
    {
      "cell_type": "code",
      "source": [
        "arr2 = np.array([[1,2,3],[4,5,6],[7,8,9]],dtype = np.int8)\n",
        "print(arr2)\n",
        "print(arr2.dtype)\n",
        "print(arr2.ndim)\n",
        "print(arr2.shape)\n",
        "print(arr2.size)\n",
        "print(arr2[1][1])"
      ],
      "metadata": {
        "id": "21CSZJACy5yL"
      },
      "execution_count": null,
      "outputs": []
    },
    {
      "cell_type": "code",
      "source": [
        "# conversion\n",
        "arr_dict = np.array({1,2,3,4})\n",
        "print(arr_dict)\n",
        "print(arr_dict.dtype)\n",
        "print(arr_dict.ndim)\n",
        "print(arr_dict.shape)\n",
        "print(arr_dict.size)"
      ],
      "metadata": {
        "id": "gQ4RTvNX0R2n"
      },
      "execution_count": null,
      "outputs": []
    },
    {
      "cell_type": "code",
      "source": [
        "#numpy inbuilt matrices\n",
        "print(np.zeros((3,3)))\n",
        "print(np.ones((2,2)))\n",
        "print(np.identity(4))"
      ],
      "metadata": {
        "id": "ZugEwCQO017e"
      },
      "execution_count": null,
      "outputs": []
    },
    {
      "cell_type": "code",
      "source": [
        "print(np.arange(10))\n",
        "print(np.arange(1,10))\n",
        "print(np.arange(100,10,-1))\n"
      ],
      "metadata": {
        "id": "rr33lFLw2rCC"
      },
      "execution_count": null,
      "outputs": []
    },
    {
      "cell_type": "code",
      "source": [
        "print(np.linspace(1,100,4))\n",
        "print(np.empty((4,6)))"
      ],
      "metadata": {
        "id": "0heZkqmh25RG"
      },
      "execution_count": null,
      "outputs": []
    },
    {
      "cell_type": "code",
      "source": [
        "arr3 = np.arange(10)\n",
        "print(arr3)\n",
        "print(arr3.reshape(5,2))\n",
        "print(arr3.reshape(2,5))\n",
        "print(arr3)\n",
        "arr3 = arr3.reshape(5,2)\n",
        "print(arr3)\n",
        "print(arr3.ravel())\n",
        "arr3 = arr3.ravel()\n",
        "print(arr3)"
      ],
      "metadata": {
        "id": "uspcYYGy3007"
      },
      "execution_count": null,
      "outputs": []
    },
    {
      "cell_type": "code",
      "source": [
        "# access\n",
        "arr4 = np.array([1,2,3,4,5,6,7,8])\n",
        "print(arr4)\n",
        "print(arr4.sum())\n",
        "print(sum(arr4))\n",
        "\n",
        "arr5 = np.array([[1,2,3],[4,5,6],[6,7,8]])\n",
        "print(arr5)\n",
        "print(arr5.sum(axis=0))         # column sum\n",
        "print(arr5.sum(axis=1))         # row sum\n",
        "print(arr5.T)"
      ],
      "metadata": {
        "id": "CYu2gySq4ymA"
      },
      "execution_count": null,
      "outputs": []
    },
    {
      "cell_type": "markdown",
      "source": [
        "#PANDAS"
      ],
      "metadata": {
        "id": "cU5bsiHkNKTj"
      }
    },
    {
      "cell_type": "code",
      "source": [
        "import numpy as np\n",
        "import pandas as pd"
      ],
      "metadata": {
        "id": "o0T75K2WNLoE"
      },
      "execution_count": null,
      "outputs": []
    },
    {
      "cell_type": "code",
      "source": [
        "dict1 ={\n",
        "    'names' : ['A','B','C','D'],\n",
        "    'marks' : [85,91,83,98],\n",
        "    'city' : ['X','Y','Z','W']\n",
        "}\n",
        "print(dict1)\n",
        "df = pd.DataFrame(dict1)\n",
        "print(df)\n",
        "print(df['names'])"
      ],
      "metadata": {
        "id": "sUT6fNDNOQ6o"
      },
      "execution_count": null,
      "outputs": []
    },
    {
      "cell_type": "code",
      "source": [
        "# to csv\n",
        "df.to_csv('file1.csv')\n",
        "df.to_csv('file2.csv',index = False)"
      ],
      "metadata": {
        "id": "4vlq76_91GPw"
      },
      "execution_count": null,
      "outputs": []
    },
    {
      "cell_type": "code",
      "source": [
        "df.head(2)\n",
        "df.tail(2)\n",
        "df.describe() # gives a statiscal analysis for a column which has numerical values"
      ],
      "metadata": {
        "id": "RYuyTAZl1j6a"
      },
      "execution_count": null,
      "outputs": []
    },
    {
      "cell_type": "code",
      "source": [
        "df['marks']\n",
        "df['names']\n",
        "df['names'][1]\n",
        "df['names'][1] = 'F'\n",
        "df['names'][1]\n",
        "df['names']\n"
      ],
      "metadata": {
        "id": "21g2kG9m1nKh"
      },
      "execution_count": null,
      "outputs": []
    },
    {
      "cell_type": "code",
      "source": [
        "#changing the index\n",
        "df.index\n",
        "df.index = ['first','second','third','fourth']\n",
        "df.index\n",
        "df"
      ],
      "metadata": {
        "id": "LMpGsYZg24rc"
      },
      "execution_count": null,
      "outputs": []
    },
    {
      "cell_type": "code",
      "source": [
        "df['names'].dtype\n",
        "type(df['names'])"
      ],
      "metadata": {
        "id": "VP1Vtt2o5rr6"
      },
      "execution_count": null,
      "outputs": []
    },
    {
      "cell_type": "code",
      "source": [
        "#Series\n",
        "ser = pd.Series(np.random.rand(34))\n",
        "# print(ser)\n",
        "new_df = pd.DataFrame(np.random.rand(100,5))\n",
        "print(new_df)\n",
        "new_df.columns=[\"A\",\"B\",\"C\",\"D\",\"E\"]\n",
        "print(new_df)\n",
        "new_df.dtypes\n",
        "print(new_df.T)  # transpose"
      ],
      "metadata": {
        "id": "THgZcBed6TtJ"
      },
      "execution_count": null,
      "outputs": []
    },
    {
      "cell_type": "code",
      "source": [
        "# copy and view\n",
        "new_df2 = new_df\n",
        "print(new_df2)\n",
        "new_df2['A'][0]= 0.344312 #[col][row]\n",
        "print(new_df2)\n",
        "print(new_df)"
      ],
      "metadata": {
        "id": "k9iymvc-7zCo"
      },
      "execution_count": null,
      "outputs": []
    },
    {
      "cell_type": "code",
      "source": [
        "print(new_df2['A'][0])    # [col][row]\n",
        "print(new_df2.loc[0,'A']) # [row,col]\n",
        "print(new_df2.iloc[0,0])   # [index,index]"
      ],
      "metadata": {
        "colab": {
          "base_uri": "https://localhost:8080/"
        },
        "id": "gc2UHMMI_Mxf",
        "outputId": "3d56b1fc-1800-45a2-d3eb-235db44632bd"
      },
      "execution_count": null,
      "outputs": [
        {
          "output_type": "stream",
          "name": "stdout",
          "text": [
            "0.344312\n",
            "0.344312\n",
            "0.344312\n"
          ]
        }
      ]
    },
    {
      "cell_type": "code",
      "source": [
        "new_df2.drop(0,axis=0)\n",
        "new_df2.drop('A',axis=1)\n",
        "new_df2.drop(['A','B','E'],axis=1)\n",
        "# new_df2.drop(99,axis=0,inplace=True)\n",
        "print(new_df2)\n"
      ],
      "metadata": {
        "colab": {
          "base_uri": "https://localhost:8080/"
        },
        "id": "5Uf0wxs7_1Hh",
        "outputId": "fcfeb2d1-a526-4a4f-9fc5-d33027ae9bef"
      },
      "execution_count": null,
      "outputs": [
        {
          "output_type": "stream",
          "name": "stdout",
          "text": [
            "           A         B         C         D         E\n",
            "0   0.344312  0.545145  0.833166  0.021655  0.599500\n",
            "1   0.115120  0.928047  0.688733  0.373545  0.563956\n",
            "2   0.783511  0.279994  0.576688  0.216198  0.375601\n",
            "3   0.388608  0.885304  0.705474  0.245266  0.014064\n",
            "4   0.584994  0.585470  0.526937  0.080955  0.692129\n",
            "..       ...       ...       ...       ...       ...\n",
            "94  0.888096  0.783694  0.699484  0.662099  0.541605\n",
            "95  0.911213  0.614908  0.664033  0.911096  0.351105\n",
            "96  0.030000  0.880171  0.159224  0.865461  0.146894\n",
            "97  0.257865  0.166043  0.900431  0.524149  0.394462\n",
            "98  0.890941  0.127581  0.110681  0.671457  0.890679\n",
            "\n",
            "[99 rows x 5 columns]\n"
          ]
        }
      ]
    }
  ]
}